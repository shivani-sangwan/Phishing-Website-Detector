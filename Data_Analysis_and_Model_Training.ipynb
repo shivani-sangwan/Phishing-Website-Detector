{
  "nbformat": 4,
  "nbformat_minor": 0,
  "metadata": {
    "colab": {
      "name": "Data_Analysis_and_Model_Training.ipynb",
      "provenance": [],
      "collapsed_sections": [],
      "include_colab_link": true
    },
    "kernelspec": {
      "name": "python3",
      "display_name": "Python 3"
    }
  },
  "cells": [
    {
      "cell_type": "markdown",
      "metadata": {
        "id": "view-in-github",
        "colab_type": "text"
      },
      "source": [
        "<a href=\"https://colab.research.google.com/github/himanshi18037/WhatAPhish/blob/main/Data_Analysis_and_Model_Training.ipynb\" target=\"_parent\"><img src=\"https://colab.research.google.com/assets/colab-badge.svg\" alt=\"Open In Colab\"/></a>"
      ]
    },
    {
      "cell_type": "code",
      "metadata": {
        "id": "5sh4f3Qhf0e0"
      },
      "source": [
        "from scipy.io import arff\n",
        "import pandas as pd\n",
        "import numpy as np"
      ],
      "execution_count": 2,
      "outputs": []
    },
    {
      "cell_type": "code",
      "metadata": {
        "id": "6VO2DFyXgEro"
      },
      "source": [
        "import seaborn as sns\n",
        "import matplotlib.pyplot as plt"
      ],
      "execution_count": 3,
      "outputs": []
    },
    {
      "cell_type": "code",
      "metadata": {
        "id": "OzFGPlzMgEoY"
      },
      "source": [
        "%matplotlib inline"
      ],
      "execution_count": 4,
      "outputs": []
    },
    {
      "cell_type": "code",
      "metadata": {
        "id": "mC_jnI7RgEiV"
      },
      "source": [
        "from sklearn.preprocessing import OneHotEncoder, LabelEncoder, OrdinalEncoder"
      ],
      "execution_count": 5,
      "outputs": []
    },
    {
      "cell_type": "code",
      "metadata": {
        "id": "RtOHJ063f8Xi"
      },
      "source": [
        "def getProcessedDataFrame(filepath):\n",
        "  dataset = arff.loadarff(filepath)\n",
        "  df = pd.DataFrame(dataset[0])\n",
        "  str_df = df.select_dtypes([np.object]) \n",
        "  str_df = str_df.stack().str.decode('utf-8').unstack()\n",
        "\n",
        "  for col in str_df.columns:\n",
        "    str_df[col] = str_df[col].astype(int)\n",
        "  return str_df"
      ],
      "execution_count": 6,
      "outputs": []
    },
    {
      "cell_type": "code",
      "metadata": {
        "id": "9GjnTulo8Nzz",
        "colab": {
          "base_uri": "https://localhost:8080/"
        },
        "outputId": "3a8a648b-1389-4686-ec9f-5b772fdf26ae"
      },
      "source": [
        "from google.colab import drive\n",
        "drive.mount('/content/drive')"
      ],
      "execution_count": 7,
      "outputs": [
        {
          "output_type": "stream",
          "text": [
            "Drive already mounted at /content/drive; to attempt to forcibly remount, call drive.mount(\"/content/drive\", force_remount=True).\n"
          ],
          "name": "stdout"
        }
      ]
    },
    {
      "cell_type": "code",
      "metadata": {
        "id": "KnMLFNf5f8iM"
      },
      "source": [
        "complete_training = getProcessedDataFrame(\"/content/drive/My Drive/WAP_dataset/Training Dataset.arff\")"
      ],
      "execution_count": 12,
      "outputs": []
    },
    {
      "cell_type": "code",
      "metadata": {
        "colab": {
          "base_uri": "https://localhost:8080/"
        },
        "id": "Y22y-Jhnw-hk",
        "outputId": "b0358fde-2d6c-4b2c-aab5-a5712b82e568"
      },
      "source": [
        "complete_training['Result'].value_counts()"
      ],
      "execution_count": 13,
      "outputs": [
        {
          "output_type": "execute_result",
          "data": {
            "text/plain": [
              " 1    6157\n",
              "-1    4898\n",
              "Name: Result, dtype: int64"
            ]
          },
          "metadata": {
            "tags": []
          },
          "execution_count": 13
        }
      ]
    },
    {
      "cell_type": "code",
      "metadata": {
        "id": "50Rv3ugtgcv7"
      },
      "source": [
        "reduced_df = complete_training[['having_IP_Address', 'URL_Length', 'Shortining_Service',\n",
        "       'having_At_Symbol', 'double_slash_redirecting', 'Prefix_Suffix',\n",
        "       'having_Sub_Domain', 'SSLfinal_State', 'Domain_registeration_length',\n",
        "       'Favicon', 'HTTPS_token', 'Request_URL', 'URL_of_Anchor',\n",
        "       'Links_in_tags', 'SFH', 'Submitting_to_email', 'Redirect', 'on_mouseover', 'RightClick', 'Iframe',\n",
        "       'age_of_domain', 'DNSRecord', 'web_traffic', 'Page_Rank',\n",
        "       'Statistical_report', 'Result']]"
      ],
      "execution_count": 14,
      "outputs": []
    },
    {
      "cell_type": "code",
      "metadata": {
        "id": "yA2sqxTqaDTg"
      },
      "source": [
        "def convertEncodingToPositive(dataframe):\n",
        "\n",
        "  mapping = {-1: 2, 0: 0, 1: 1}\n",
        "\n",
        "  col_map = {}\n",
        "\n",
        "  for col in dataframe:\n",
        "    col_map[col] = mapping\n",
        "\n",
        "  for i in range(dataframe.shape[0]):\n",
        "    # if (i%100 == 0):\n",
        "    #   print(i)\n",
        "    for j in range(dataframe.shape[1]):\n",
        "      dataframe.loc[i][j] = mapping[dataframe.loc[i][j]]"
      ],
      "execution_count": 16,
      "outputs": []
    },
    {
      "cell_type": "code",
      "metadata": {
        "id": "HfP1k8FObb44"
      },
      "source": [
        "convertEncodingToPositive(reduced_df)"
      ],
      "execution_count": 17,
      "outputs": []
    },
    {
      "cell_type": "code",
      "metadata": {
        "colab": {
          "base_uri": "https://localhost:8080/",
          "height": 439
        },
        "id": "uoLslRB_u5B6",
        "outputId": "d885c2e9-6c88-4e99-a8c2-2a529008c543"
      },
      "source": [
        "reduced_df"
      ],
      "execution_count": 18,
      "outputs": [
        {
          "output_type": "execute_result",
          "data": {
            "text/html": [
              "<div>\n",
              "<style scoped>\n",
              "    .dataframe tbody tr th:only-of-type {\n",
              "        vertical-align: middle;\n",
              "    }\n",
              "\n",
              "    .dataframe tbody tr th {\n",
              "        vertical-align: top;\n",
              "    }\n",
              "\n",
              "    .dataframe thead th {\n",
              "        text-align: right;\n",
              "    }\n",
              "</style>\n",
              "<table border=\"1\" class=\"dataframe\">\n",
              "  <thead>\n",
              "    <tr style=\"text-align: right;\">\n",
              "      <th></th>\n",
              "      <th>having_IP_Address</th>\n",
              "      <th>URL_Length</th>\n",
              "      <th>Shortining_Service</th>\n",
              "      <th>having_At_Symbol</th>\n",
              "      <th>double_slash_redirecting</th>\n",
              "      <th>Prefix_Suffix</th>\n",
              "      <th>having_Sub_Domain</th>\n",
              "      <th>SSLfinal_State</th>\n",
              "      <th>Domain_registeration_length</th>\n",
              "      <th>Favicon</th>\n",
              "      <th>HTTPS_token</th>\n",
              "      <th>Request_URL</th>\n",
              "      <th>URL_of_Anchor</th>\n",
              "      <th>Links_in_tags</th>\n",
              "      <th>SFH</th>\n",
              "      <th>Submitting_to_email</th>\n",
              "      <th>Redirect</th>\n",
              "      <th>on_mouseover</th>\n",
              "      <th>RightClick</th>\n",
              "      <th>Iframe</th>\n",
              "      <th>age_of_domain</th>\n",
              "      <th>DNSRecord</th>\n",
              "      <th>web_traffic</th>\n",
              "      <th>Page_Rank</th>\n",
              "      <th>Statistical_report</th>\n",
              "      <th>Result</th>\n",
              "    </tr>\n",
              "  </thead>\n",
              "  <tbody>\n",
              "    <tr>\n",
              "      <th>0</th>\n",
              "      <td>2</td>\n",
              "      <td>1</td>\n",
              "      <td>1</td>\n",
              "      <td>1</td>\n",
              "      <td>2</td>\n",
              "      <td>2</td>\n",
              "      <td>2</td>\n",
              "      <td>2</td>\n",
              "      <td>2</td>\n",
              "      <td>1</td>\n",
              "      <td>2</td>\n",
              "      <td>1</td>\n",
              "      <td>2</td>\n",
              "      <td>1</td>\n",
              "      <td>2</td>\n",
              "      <td>2</td>\n",
              "      <td>0</td>\n",
              "      <td>1</td>\n",
              "      <td>1</td>\n",
              "      <td>1</td>\n",
              "      <td>2</td>\n",
              "      <td>2</td>\n",
              "      <td>2</td>\n",
              "      <td>2</td>\n",
              "      <td>2</td>\n",
              "      <td>2</td>\n",
              "    </tr>\n",
              "    <tr>\n",
              "      <th>1</th>\n",
              "      <td>1</td>\n",
              "      <td>1</td>\n",
              "      <td>1</td>\n",
              "      <td>1</td>\n",
              "      <td>1</td>\n",
              "      <td>2</td>\n",
              "      <td>0</td>\n",
              "      <td>1</td>\n",
              "      <td>2</td>\n",
              "      <td>1</td>\n",
              "      <td>2</td>\n",
              "      <td>1</td>\n",
              "      <td>0</td>\n",
              "      <td>2</td>\n",
              "      <td>2</td>\n",
              "      <td>1</td>\n",
              "      <td>0</td>\n",
              "      <td>1</td>\n",
              "      <td>1</td>\n",
              "      <td>1</td>\n",
              "      <td>2</td>\n",
              "      <td>2</td>\n",
              "      <td>0</td>\n",
              "      <td>2</td>\n",
              "      <td>1</td>\n",
              "      <td>2</td>\n",
              "    </tr>\n",
              "    <tr>\n",
              "      <th>2</th>\n",
              "      <td>1</td>\n",
              "      <td>0</td>\n",
              "      <td>1</td>\n",
              "      <td>1</td>\n",
              "      <td>1</td>\n",
              "      <td>2</td>\n",
              "      <td>2</td>\n",
              "      <td>2</td>\n",
              "      <td>2</td>\n",
              "      <td>1</td>\n",
              "      <td>2</td>\n",
              "      <td>1</td>\n",
              "      <td>0</td>\n",
              "      <td>2</td>\n",
              "      <td>2</td>\n",
              "      <td>2</td>\n",
              "      <td>0</td>\n",
              "      <td>1</td>\n",
              "      <td>1</td>\n",
              "      <td>1</td>\n",
              "      <td>1</td>\n",
              "      <td>2</td>\n",
              "      <td>1</td>\n",
              "      <td>2</td>\n",
              "      <td>2</td>\n",
              "      <td>2</td>\n",
              "    </tr>\n",
              "    <tr>\n",
              "      <th>3</th>\n",
              "      <td>1</td>\n",
              "      <td>0</td>\n",
              "      <td>1</td>\n",
              "      <td>1</td>\n",
              "      <td>1</td>\n",
              "      <td>2</td>\n",
              "      <td>2</td>\n",
              "      <td>2</td>\n",
              "      <td>1</td>\n",
              "      <td>1</td>\n",
              "      <td>2</td>\n",
              "      <td>2</td>\n",
              "      <td>0</td>\n",
              "      <td>0</td>\n",
              "      <td>2</td>\n",
              "      <td>1</td>\n",
              "      <td>0</td>\n",
              "      <td>1</td>\n",
              "      <td>1</td>\n",
              "      <td>1</td>\n",
              "      <td>2</td>\n",
              "      <td>2</td>\n",
              "      <td>1</td>\n",
              "      <td>2</td>\n",
              "      <td>1</td>\n",
              "      <td>2</td>\n",
              "    </tr>\n",
              "    <tr>\n",
              "      <th>4</th>\n",
              "      <td>1</td>\n",
              "      <td>0</td>\n",
              "      <td>2</td>\n",
              "      <td>1</td>\n",
              "      <td>1</td>\n",
              "      <td>2</td>\n",
              "      <td>1</td>\n",
              "      <td>1</td>\n",
              "      <td>2</td>\n",
              "      <td>1</td>\n",
              "      <td>1</td>\n",
              "      <td>1</td>\n",
              "      <td>0</td>\n",
              "      <td>0</td>\n",
              "      <td>2</td>\n",
              "      <td>1</td>\n",
              "      <td>0</td>\n",
              "      <td>2</td>\n",
              "      <td>1</td>\n",
              "      <td>1</td>\n",
              "      <td>2</td>\n",
              "      <td>2</td>\n",
              "      <td>0</td>\n",
              "      <td>2</td>\n",
              "      <td>1</td>\n",
              "      <td>1</td>\n",
              "    </tr>\n",
              "    <tr>\n",
              "      <th>...</th>\n",
              "      <td>...</td>\n",
              "      <td>...</td>\n",
              "      <td>...</td>\n",
              "      <td>...</td>\n",
              "      <td>...</td>\n",
              "      <td>...</td>\n",
              "      <td>...</td>\n",
              "      <td>...</td>\n",
              "      <td>...</td>\n",
              "      <td>...</td>\n",
              "      <td>...</td>\n",
              "      <td>...</td>\n",
              "      <td>...</td>\n",
              "      <td>...</td>\n",
              "      <td>...</td>\n",
              "      <td>...</td>\n",
              "      <td>...</td>\n",
              "      <td>...</td>\n",
              "      <td>...</td>\n",
              "      <td>...</td>\n",
              "      <td>...</td>\n",
              "      <td>...</td>\n",
              "      <td>...</td>\n",
              "      <td>...</td>\n",
              "      <td>...</td>\n",
              "      <td>...</td>\n",
              "    </tr>\n",
              "    <tr>\n",
              "      <th>11050</th>\n",
              "      <td>1</td>\n",
              "      <td>2</td>\n",
              "      <td>1</td>\n",
              "      <td>2</td>\n",
              "      <td>1</td>\n",
              "      <td>1</td>\n",
              "      <td>1</td>\n",
              "      <td>1</td>\n",
              "      <td>2</td>\n",
              "      <td>2</td>\n",
              "      <td>1</td>\n",
              "      <td>1</td>\n",
              "      <td>1</td>\n",
              "      <td>1</td>\n",
              "      <td>2</td>\n",
              "      <td>2</td>\n",
              "      <td>0</td>\n",
              "      <td>2</td>\n",
              "      <td>2</td>\n",
              "      <td>2</td>\n",
              "      <td>1</td>\n",
              "      <td>1</td>\n",
              "      <td>2</td>\n",
              "      <td>2</td>\n",
              "      <td>1</td>\n",
              "      <td>1</td>\n",
              "    </tr>\n",
              "    <tr>\n",
              "      <th>11051</th>\n",
              "      <td>2</td>\n",
              "      <td>1</td>\n",
              "      <td>1</td>\n",
              "      <td>2</td>\n",
              "      <td>2</td>\n",
              "      <td>2</td>\n",
              "      <td>1</td>\n",
              "      <td>2</td>\n",
              "      <td>2</td>\n",
              "      <td>2</td>\n",
              "      <td>1</td>\n",
              "      <td>1</td>\n",
              "      <td>2</td>\n",
              "      <td>2</td>\n",
              "      <td>0</td>\n",
              "      <td>2</td>\n",
              "      <td>1</td>\n",
              "      <td>2</td>\n",
              "      <td>1</td>\n",
              "      <td>1</td>\n",
              "      <td>1</td>\n",
              "      <td>1</td>\n",
              "      <td>1</td>\n",
              "      <td>1</td>\n",
              "      <td>1</td>\n",
              "      <td>2</td>\n",
              "    </tr>\n",
              "    <tr>\n",
              "      <th>11052</th>\n",
              "      <td>1</td>\n",
              "      <td>2</td>\n",
              "      <td>1</td>\n",
              "      <td>1</td>\n",
              "      <td>1</td>\n",
              "      <td>2</td>\n",
              "      <td>1</td>\n",
              "      <td>2</td>\n",
              "      <td>2</td>\n",
              "      <td>1</td>\n",
              "      <td>1</td>\n",
              "      <td>1</td>\n",
              "      <td>0</td>\n",
              "      <td>2</td>\n",
              "      <td>2</td>\n",
              "      <td>1</td>\n",
              "      <td>0</td>\n",
              "      <td>1</td>\n",
              "      <td>1</td>\n",
              "      <td>1</td>\n",
              "      <td>1</td>\n",
              "      <td>1</td>\n",
              "      <td>1</td>\n",
              "      <td>2</td>\n",
              "      <td>1</td>\n",
              "      <td>2</td>\n",
              "    </tr>\n",
              "    <tr>\n",
              "      <th>11053</th>\n",
              "      <td>2</td>\n",
              "      <td>2</td>\n",
              "      <td>1</td>\n",
              "      <td>1</td>\n",
              "      <td>1</td>\n",
              "      <td>2</td>\n",
              "      <td>2</td>\n",
              "      <td>2</td>\n",
              "      <td>1</td>\n",
              "      <td>2</td>\n",
              "      <td>1</td>\n",
              "      <td>2</td>\n",
              "      <td>2</td>\n",
              "      <td>1</td>\n",
              "      <td>2</td>\n",
              "      <td>1</td>\n",
              "      <td>0</td>\n",
              "      <td>2</td>\n",
              "      <td>1</td>\n",
              "      <td>1</td>\n",
              "      <td>1</td>\n",
              "      <td>1</td>\n",
              "      <td>1</td>\n",
              "      <td>2</td>\n",
              "      <td>1</td>\n",
              "      <td>2</td>\n",
              "    </tr>\n",
              "    <tr>\n",
              "      <th>11054</th>\n",
              "      <td>2</td>\n",
              "      <td>2</td>\n",
              "      <td>1</td>\n",
              "      <td>1</td>\n",
              "      <td>1</td>\n",
              "      <td>2</td>\n",
              "      <td>2</td>\n",
              "      <td>2</td>\n",
              "      <td>1</td>\n",
              "      <td>1</td>\n",
              "      <td>1</td>\n",
              "      <td>2</td>\n",
              "      <td>2</td>\n",
              "      <td>0</td>\n",
              "      <td>2</td>\n",
              "      <td>1</td>\n",
              "      <td>0</td>\n",
              "      <td>1</td>\n",
              "      <td>1</td>\n",
              "      <td>1</td>\n",
              "      <td>2</td>\n",
              "      <td>1</td>\n",
              "      <td>2</td>\n",
              "      <td>2</td>\n",
              "      <td>2</td>\n",
              "      <td>2</td>\n",
              "    </tr>\n",
              "  </tbody>\n",
              "</table>\n",
              "<p>11055 rows × 26 columns</p>\n",
              "</div>"
            ],
            "text/plain": [
              "       having_IP_Address  URL_Length  ...  Statistical_report  Result\n",
              "0                      2           1  ...                   2       2\n",
              "1                      1           1  ...                   1       2\n",
              "2                      1           0  ...                   2       2\n",
              "3                      1           0  ...                   1       2\n",
              "4                      1           0  ...                   1       1\n",
              "...                  ...         ...  ...                 ...     ...\n",
              "11050                  1           2  ...                   1       1\n",
              "11051                  2           1  ...                   1       2\n",
              "11052                  1           2  ...                   1       2\n",
              "11053                  2           2  ...                   1       2\n",
              "11054                  2           2  ...                   2       2\n",
              "\n",
              "[11055 rows x 26 columns]"
            ]
          },
          "metadata": {
            "tags": []
          },
          "execution_count": 18
        }
      ]
    },
    {
      "cell_type": "code",
      "metadata": {
        "id": "CcaUZDJu1MAP"
      },
      "source": [
        "from sklearn.model_selection import train_test_split, KFold"
      ],
      "execution_count": 19,
      "outputs": []
    },
    {
      "cell_type": "code",
      "metadata": {
        "id": "m3FXjUHAgcz4"
      },
      "source": [
        "X_reduced = reduced_df.iloc[:,0:25]\n",
        "y_reduced = reduced_df.iloc[:, -1]"
      ],
      "execution_count": 20,
      "outputs": []
    },
    {
      "cell_type": "code",
      "metadata": {
        "id": "vkcAlKYHd8hH"
      },
      "source": [
        "X_train_red, X_test_red, y_train_red, y_test_red = train_test_split(X_reduced, y_reduced, test_size=0.2, random_state=7, stratify=y_reduced)"
      ],
      "execution_count": 21,
      "outputs": []
    },
    {
      "cell_type": "code",
      "metadata": {
        "colab": {
          "base_uri": "https://localhost:8080/"
        },
        "id": "RvUusquliRTn",
        "outputId": "df71002a-6775-4e45-e274-f0ced0761d14"
      },
      "source": [
        "X_test_red.shape"
      ],
      "execution_count": 22,
      "outputs": [
        {
          "output_type": "execute_result",
          "data": {
            "text/plain": [
              "(2211, 25)"
            ]
          },
          "metadata": {
            "tags": []
          },
          "execution_count": 22
        }
      ]
    },
    {
      "cell_type": "code",
      "metadata": {
        "id": "h4i2w7Ineloz"
      },
      "source": [
        "kf = KFold(n_splits=5, shuffle=True, random_state=786)"
      ],
      "execution_count": 23,
      "outputs": []
    },
    {
      "cell_type": "code",
      "metadata": {
        "id": "7IKJciKRfnhm"
      },
      "source": [
        "X_train_red = X_train_red.to_numpy()\n",
        "X_test_red = X_test_red.to_numpy()\n",
        "y_train_red = y_train_red.to_numpy()\n",
        "y_test_red = y_test_red.to_numpy()"
      ],
      "execution_count": 24,
      "outputs": []
    },
    {
      "cell_type": "code",
      "metadata": {
        "colab": {
          "base_uri": "https://localhost:8080/"
        },
        "id": "8Z9WgcPUe8Ts",
        "outputId": "1c561677-de41-4d88-cf1c-5a81d41723e8"
      },
      "source": [
        "for train, test in kf.split(X_train_red):\n",
        "  print(X_train_red[train].shape, y_train_red[train].shape, X_train_red[test].shape, y_train_red[test].shape)"
      ],
      "execution_count": 26,
      "outputs": [
        {
          "output_type": "stream",
          "text": [
            "(7075, 25) (7075,) (1769, 25) (1769,)\n",
            "(7075, 25) (7075,) (1769, 25) (1769,)\n",
            "(7075, 25) (7075,) (1769, 25) (1769,)\n",
            "(7075, 25) (7075,) (1769, 25) (1769,)\n",
            "(7076, 25) (7076,) (1768, 25) (1768,)\n"
          ],
          "name": "stdout"
        }
      ]
    },
    {
      "cell_type": "code",
      "metadata": {
        "id": "AhMmyMMuMLcL"
      },
      "source": [
        "from sklearn.metrics import confusion_matrix"
      ],
      "execution_count": 27,
      "outputs": []
    },
    {
      "cell_type": "code",
      "metadata": {
        "id": "a_eSOlStMMtu"
      },
      "source": [
        "def plot_cm(y_val, y_pred):\n",
        "  labels = [1, 0]\n",
        "  cm = confusion_matrix(y_val, y_pred, labels)\n",
        "  # print(cm)\n",
        "  fig = plt.figure()\n",
        "  ax = fig.add_subplot(111)\n",
        "  cax = ax.matshow(cm)\n",
        "  plt.title('Confusion matrix of the classifier')\n",
        "  fig.colorbar(cax)\n",
        "  ax.set_xticklabels([''] + labels)\n",
        "  ax.set_yticklabels([''] + labels)\n",
        "  plt.xlabel('Predicted')\n",
        "  plt.ylabel('True')\n"
      ],
      "execution_count": 28,
      "outputs": []
    },
    {
      "cell_type": "markdown",
      "metadata": {
        "id": "By7oU0bPhzEh"
      },
      "source": [
        "Above this section we have all features and reduced set of features. Now we will try to train certain classification models on it"
      ]
    },
    {
      "cell_type": "markdown",
      "metadata": {
        "id": "ZiwieIdVjZCq"
      },
      "source": [
        "Record what value states what?\n",
        "\n",
        "-1, 0, 1 -> Phishing, Suspicious, Legitimate -> 2, 0, 1\n",
        "\n",
        "After changing encoding, what are the new mappings?\n",
        "\n",
        "Print number of samples in each split before proceeding."
      ]
    },
    {
      "cell_type": "markdown",
      "metadata": {
        "id": "iN3WAvW_l_sX"
      },
      "source": [
        "In report justify why did we not require any kind of resampling - undersampling/ oversampling."
      ]
    },
    {
      "cell_type": "markdown",
      "metadata": {
        "id": "pgr0uesKh_rz"
      },
      "source": [
        "Ground truth - **Categorical Naive Bayes** (needs to be redone with all features dataset)\n",
        "\n",
        "Rest:\n",
        "- Decision Tree - try to optimise parameters by Grid Search\n",
        "- **Logistic Regression** - try different learning rates - also try batch, stocastic and mini-batch gradient descents.\n",
        "- Random Forest\n",
        "- **K-nearest neighbours**\n",
        "- SVC - read about kernel and stuff\n",
        "- XGBoost\n",
        "- AdaBoost\n",
        "- Neural Network\n",
        "\n",
        "For each model check if data needs to be converted to One-Hot rather than Ordinal Encoded, as it is right now.\n",
        "\n",
        "For every model, reason if K-fold or train-val split should be used. - (Probably use **K-fold for all**; can discuss this point).\n",
        "\n",
        "For each check if the chosen set of features or the complete feature group, (can also try out random set of features; just a suggestion not sure about it) is providing better results.\n",
        "\n",
        "Plot confusion matrix and ROC curve for each model. Report accuracy. Print classification report.\n",
        "\n",
        "For logistic regression try different loss functions.\n",
        "\n",
        "For each model, read up how to check for underfitting or overfitting and implement it accordingly. (PS: We do have some more datasets available so can use them for judging variance).\n",
        "\n",
        "Can report in the end everything in a tabular format.\n",
        "\n",
        "**Aim**: To reduce False Positives."
      ]
    },
    {
      "cell_type": "markdown",
      "metadata": {
        "id": "Y-B9v4tvnfzX"
      },
      "source": [
        "New tasks: Figure out and extract features for a new URL/input vectors. (Can also go in reverse direction; finalise that which all features can we extract and work based on it.)\n",
        "\n",
        "List of features ----    Comment about extraction\n",
        "- **having_IP_Address** - if URL has IP (directly or in hex) -> Phishing; else Legitimate (Done)\n",
        "\n",
        "- **URL Length** - less than 54 - legitimate, 54-75: suspicious, 75+ - phishing  (Done)\n",
        "\n",
        "- **URL shortener** - can pick a few well known. If falls within them - phising, else - legitimate - Also, for URL shorteners, can expand them (Done)\n",
        "\n",
        "- **URL with @ symbol** - Yes - phishing, No - legitimate (H)\n",
        "\n",
        "- **double-slash redirect** - If last occurrence is beyond 7th, provided the address starts with http/s - phishing, else legitimate (H)\n",
        "\n",
        "- **Prefix-suffix** - domain name part has - : Yes - Ph, Else - Legitimate (H)\n",
        "\n",
        "- **Multi-domains** - count dots and decide (refer doc for rule; read the whole para to understand) (H)\n",
        "\n",
        "- **SSL final state** - Ask user if http/https. Use `curl -vvI <URL>` to  check expire date field. And use O field of issuer. Check if it occurs out of trusted/Google. Though can ignore age of certificate constraint. (H)\n",
        "\n",
        "- **Domain registration length** - check creation date from whois database (Va)\n",
        "\n",
        "- **Favicon** - use favicon.get from python (Va)\n",
        "\n",
        "- Port - Doesn't seem very reliable feature, a lot of well-known websites have ftp port open. [drop]\n",
        "\n",
        "- **HTTPS token** - String parsing (Va)\n",
        "\n",
        "- **Request URL** - Can use `https://api.hackertarget.com/pagelinks/?q=google.com` API or `lynx -listonly -dump url.example.com` (Va)\n",
        "\n",
        "- URL of Anchor - Use bs4 - Beautiful Soup (Va)\n",
        "\n",
        "- Links in tags - Use bs4 - Beautiful Soup (Va)\n",
        "\n",
        "- SFH - can check action field in form tag obtained using curl (Va)\n",
        "\n",
        "- **Submitting to email** - check mail() or mailto: in `<form> </form>` closing tag (Vi) [Done]\n",
        "\n",
        "- Abnormal URL - [Drop]\n",
        "\n",
        "- **Redirect** - script found (Vi) [Done]\n",
        "\n",
        "- **On mouseover** - need source code. Check if onMouseOver on status bar is present, if Yes - Ph, Else - Leg (Vi)\n",
        "\n",
        "- **Rightclick** - need source code (bs4 can be used). Search for the eventbutton==2 in the code, if it is present the right click not allowed - Ph, Else - Leg (Vi) [Done]\n",
        "\n",
        "- Pop Up window - [Can drop; no resources]\n",
        "\n",
        "- **Iframe** - need site source code (html code). Check if frameborder attribute in iframe tag, this attribute if true - Ph, else - Leg (Vi) [Done]\n",
        "\n",
        "- **Age of domain** - check whois database creation date field. (Vi) [Done]\n",
        "\n",
        "- **DNS record** - check whois database and domain name field if found in whois database. (Vi) [Done]\n",
        "\n",
        "- **web traffic** - Can use `curl https://www.alexa.com/siteinfo/iiitd.ac.in` or with beautifulsoup. First instance of rank gives the appropriate result. (Vi) [Done]\n",
        "\n",
        "- **Page rank** - No page rank - Ph, page rank<=0.2 - Ph, Else - Leg (<=1). Can use https://www.domcop.com/openpagerank/documentation. It gives pagerank in range of (0, 10). (Vi) [Done]\n",
        "\n",
        "- Google Index - [Drop]\n",
        "\n",
        "- Links pointing to page - No Resource. [Dropping the feature]\n",
        "\n",
        "- **statistical report** - phishtank - https://www.phishtank.com/api_info.php (Vi) [Done]\n",
        "\n",
        "\n"
      ]
    },
    {
      "cell_type": "code",
      "metadata": {
        "id": "DrK_2gZ-hUt5"
      },
      "source": [
        "import pickle\n",
        "from sklearn.preprocessing import OneHotEncoder\n",
        "encoder = OneHotEncoder(sparse=False)\n",
        "X_train_red_onehot = encoder.fit_transform(X_train_red)\n",
        "X_test_red_onehot = encoder.transform(X_test_red)\n",
        "pickle.dump(encoder, open(\"One_Hot_Encoder\", 'wb'))\n",
        "\n"
      ],
      "execution_count": 29,
      "outputs": []
    },
    {
      "cell_type": "markdown",
      "metadata": {
        "id": "E44cPXddLue1"
      },
      "source": [
        "Categorical Naive Bayes"
      ]
    },
    {
      "cell_type": "code",
      "metadata": {
        "id": "S4MOixnvpA6j"
      },
      "source": [
        "from sklearn import metrics\n",
        "from pprint import pprint\n",
        "from sklearn.naive_bayes import CategoricalNB"
      ],
      "execution_count": 33,
      "outputs": []
    },
    {
      "cell_type": "markdown",
      "metadata": {
        "id": "2jzcHIKSy4uT"
      },
      "source": [
        "smaller class is true class (legitimate)"
      ]
    },
    {
      "cell_type": "code",
      "metadata": {
        "id": "bRuA0LlIMAyk"
      },
      "source": [
        "def to_use_GNB(X_train_red_onehot, y_train_red):\n",
        "  accuracy_scores_catNB = []\n",
        "  for train, val in kf.split(X_train_red):\n",
        "    clf_NB = CategoricalNB()\n",
        "    clf_NB = clf_NB.fit(X_train_red[train], y_train_red[train])\n",
        "    tp, fn, fp, tn = metrics.confusion_matrix(y_train_red[val], clf_NB.predict(X_train_red[val])).ravel()\n",
        "    accuracy = (tn+tp)/(fp+fn+tp+tn)\n",
        "    precision = tp/(tp+fp)\n",
        "    recall = tp/(tp+fn)\n",
        "    fpr = fp/(fp+tn)\n",
        "    f1 = 2*precision*recall/(precision + recall)\n",
        "    accuracy_scores_catNB.append((accuracy, precision, recall, fpr, f1))\n",
        "\n",
        "  return np.mean(accuracy_scores_catNB, axis=0)\n",
        "\n",
        "metric_GNB = to_use_GNB(X_train_red_onehot, y_train_red)\n",
        "print(metric_GNB)"
      ],
      "execution_count": 28,
      "outputs": []
    },
    {
      "cell_type": "markdown",
      "metadata": {
        "id": "eNqRVUsl0vXN"
      },
      "source": [
        "K-Nearest Neighbours"
      ]
    },
    {
      "cell_type": "code",
      "metadata": {
        "id": "SpEtmfxeMAqg"
      },
      "source": [
        "from sklearn.neighbors import KNeighborsClassifier\n",
        "from sklearn.model_selection import GridSearchCV"
      ],
      "execution_count": null,
      "outputs": []
    },
    {
      "cell_type": "code",
      "metadata": {
        "colab": {
          "base_uri": "https://localhost:8080/"
        },
        "id": "PIU6Hd8Q3H4P",
        "outputId": "cbf98e3c-adf2-4dbf-bd2f-a27a68637c9d"
      },
      "source": [
        "def gridsearch_KNN(X_train_red_onehot, y_train_red):\n",
        "  clf_knn = KNeighborsClassifier()\n",
        "  knn_param_grid = {\n",
        "      \"n_neighbors\": [3, 5, 7, 9, 15],\n",
        "      \"metric\": ['euclidean', 'manhattan']\n",
        "  }\n",
        "\n",
        "  gs_knn = GridSearchCV(KNeighborsClassifier(), knn_param_grid, cv = 3)\n",
        "  gs_results = gs_knn.fit(X_train_red_onehot, y_train_red)\n",
        "\n",
        "  return gs_results.best_params_\n",
        "\n",
        "bestparams_knn = gridsearch_KNN(X_train_red_onehot, y_train_red)\n",
        "print(bestparams_knn)"
      ],
      "execution_count": null,
      "outputs": [
        {
          "output_type": "stream",
          "text": [
            "{'metric': 'euclidean', 'n_neighbors': 3}\n"
          ],
          "name": "stdout"
        }
      ]
    },
    {
      "cell_type": "code",
      "metadata": {
        "id": "wsINu7LVMAn6",
        "colab": {
          "base_uri": "https://localhost:8080/"
        },
        "outputId": "cbd199d1-57c9-4b26-8f08-a2758a3773b6"
      },
      "source": [
        "def to_use_KNN(X_train_red_onehot, y_train_red):\n",
        "  accuracy_scores_catKNN = []\n",
        "  for train, val in kf.split(X_train_red):\n",
        "    clf_neigh = KNeighborsClassifier(n_neighbors=3, metric='euclidean')\n",
        "    clf_neigh = clf_neigh.fit(X_train_red_onehot[train], y_train_red[train])\n",
        "    tp, fn, fp, tn = metrics.confusion_matrix(y_train_red[val], clf_neigh.predict(X_train_red_onehot[val])).ravel()\n",
        "    accuracy = (tn+tp)/(fp+fn+tp+tn)\n",
        "    precision = tp/(tp+fp)\n",
        "    recall = tp/(tp+fn)\n",
        "    fpr = fp/(fp+tn)\n",
        "    f1 = 2*precision*recall/(precision + recall)\n",
        "    accuracy_scores_catKNN.append((accuracy, precision, recall, fpr, f1))\n",
        "  \n",
        "  return np.mean(accuracy_scores_catKNN, axis=0)\n",
        "\n",
        "metric_knn = to_use_KNN(X_train_red_onehot, y_train_red)\n",
        "print(metric_knn)"
      ],
      "execution_count": null,
      "outputs": [
        {
          "output_type": "stream",
          "text": [
            "[0.95171806 0.95369157 0.95970352 0.05828027 0.95668097]\n"
          ],
          "name": "stdout"
        }
      ]
    },
    {
      "cell_type": "markdown",
      "metadata": {
        "id": "i2L9-53_9pzF"
      },
      "source": [
        "XGBoost"
      ]
    },
    {
      "cell_type": "code",
      "metadata": {
        "id": "Au4tXSkG9oRE"
      },
      "source": [
        "from xgboost import XGBClassifier"
      ],
      "execution_count": null,
      "outputs": []
    },
    {
      "cell_type": "code",
      "metadata": {
        "id": "COdI1hxp9oJR",
        "colab": {
          "base_uri": "https://localhost:8080/"
        },
        "outputId": "358db4e9-26a4-4c97-8269-03d159828b01"
      },
      "source": [
        "def to_use_XGB(X_train_red_onehot, y_train_red):\n",
        "  accuracy_scores_xgb = []\n",
        "  for train, val in kf.split(X_train_red):\n",
        "    clf_xgb = XGBClassifier(silent=False, \n",
        "                        scale_pos_weight=1,\n",
        "                        learning_rate=0.01,  \n",
        "                        colsample_bytree = 0.4,\n",
        "                        subsample = 0.8,\n",
        "                        objective='binary:logistic', \n",
        "                        n_estimators=1000, \n",
        "                        reg_alpha = 0.3,\n",
        "                        max_depth=4, \n",
        "                        gamma=10)\n",
        "    clf_xgb = clf_xgb.fit(X_train_red_onehot[train], y_train_red[train])\n",
        "    tp, fn, fp, tn = metrics.confusion_matrix(y_train_red[val], clf_xgb.predict(X_train_red_onehot[val])).ravel()\n",
        "    accuracy = (tn+tp)/(fp+fn+tp+tn)\n",
        "    precision = tp/(tp+fp)\n",
        "    recall = tp/(tp+fn)\n",
        "    fpr = fp/(fp+tn)\n",
        "    f1 = 2*precision*recall/(precision + recall)\n",
        "    accuracy_scores_xgb.append((accuracy, precision, recall, fpr, f1))\n",
        "\n",
        "    return np.mean(accuracy_scores_xgb, axis=0)\n",
        "    \n",
        "metric_xgb = to_use_XGB(X_train_red_onehot, y_train_red)\n",
        "print(metric_xgb)"
      ],
      "execution_count": null,
      "outputs": [
        {
          "output_type": "stream",
          "text": [
            "[0.9429056  0.95129225 0.94846383 0.06447368 0.94987593]\n"
          ],
          "name": "stdout"
        }
      ]
    },
    {
      "cell_type": "markdown",
      "metadata": {
        "id": "wyNZpLn4Due7"
      },
      "source": [
        "Decision Tree"
      ]
    },
    {
      "cell_type": "code",
      "metadata": {
        "id": "qG6fZlLdEHpF"
      },
      "source": [
        "from sklearn.tree import DecisionTreeClassifier"
      ],
      "execution_count": null,
      "outputs": []
    },
    {
      "cell_type": "code",
      "metadata": {
        "colab": {
          "base_uri": "https://localhost:8080/"
        },
        "id": "BxYamCc9Dtpp",
        "outputId": "595797ae-0aa6-4e6b-bfab-193c12f7cc1f"
      },
      "source": [
        "def grid_search_decision_tree(X_train_red_onehot, y_train_red):\n",
        "  dt = DecisionTreeClassifier(random_state=5)\n",
        "  p = {\"max_depth\": range(1,20), \"random_state\":[5]}\n",
        "  gs = GridSearchCV(estimator=dt,param_grid=p)\n",
        "  gs_fit = gs.fit(X_train_red, y_train_red)\n",
        "  return gs_fit.best_params_\n",
        "\n",
        "best_params_decision_tree = grid_search_decision_tree(X_train_red_onehot, y_train_red)\n",
        "print(best_params_decision_tree)"
      ],
      "execution_count": null,
      "outputs": [
        {
          "output_type": "stream",
          "text": [
            "{'max_depth': 17, 'random_state': 5}\n"
          ],
          "name": "stdout"
        }
      ]
    },
    {
      "cell_type": "code",
      "metadata": {
        "id": "qjfBA3o_Dtks",
        "colab": {
          "base_uri": "https://localhost:8080/"
        },
        "outputId": "ed4430b1-2c34-4520-9fad-65c16afc146c"
      },
      "source": [
        "def to_use_decisiontree(X_train_red_onehot, y_train_red):\n",
        "  accuracy_scores_dt = []\n",
        "  for train, val in kf.split(X_train_red):\n",
        "      dt = DecisionTreeClassifier(random_state=5, max_depth=17)\n",
        "      dt = dt.fit(X_train_red[train], y_train_red[train])\n",
        "      tp, fn, fp, tn = metrics.confusion_matrix(y_train_red[val],dt.predict(X_train_red[val])).ravel()\n",
        "      dt_accuracy = (tn+tp)/(tp+tn+fp+fn)\n",
        "      dt_prec = tp/(tp+fp)\n",
        "      dt_rec = tp/(tp+fn)\n",
        "      dt_fpr = fp/(fp+tn)\n",
        "      dt_f1 = 2*dt_prec*dt_rec/(dt_prec+dt_rec)\n",
        "      accuracy_scores_dt.append((dt_accuracy,dt_prec,dt_rec,dt_fpr,dt_f1))\n",
        "  \n",
        "  return np.mean(accuracy_scores_dt,axis=0)\n",
        "\n",
        "metric_decision_tree = to_use_decisiontree(X_train_red_onehot, y_train_red)\n",
        "print(metric_decision_tree)"
      ],
      "execution_count": null,
      "outputs": [
        {
          "output_type": "stream",
          "text": [
            "[0.95296266 0.95395321 0.9620518  0.05844429 0.95794962]\n"
          ],
          "name": "stdout"
        }
      ]
    },
    {
      "cell_type": "markdown",
      "metadata": {
        "id": "5nz3ju2OE8q2"
      },
      "source": [
        "Random Forest"
      ]
    },
    {
      "cell_type": "code",
      "metadata": {
        "id": "U-R5th4GFGCl"
      },
      "source": [
        "from sklearn.ensemble import RandomForestClassifier"
      ],
      "execution_count": null,
      "outputs": []
    },
    {
      "cell_type": "code",
      "metadata": {
        "id": "sYwXZ7qSGTgH",
        "colab": {
          "base_uri": "https://localhost:8080/"
        },
        "outputId": "f5f9b9f3-7344-418a-85e6-863e8201f4ff"
      },
      "source": [
        "def grid_search_random_forest(X_train_red_onehot, y_train_red):\n",
        "  rfc = RandomForestClassifier(n_jobs=-1,max_features= 'sqrt' ,n_estimators=50, oob_score = True) \n",
        "  param_grid = { \n",
        "      'n_estimators': [200, 700],\n",
        "      'max_features': ['auto', 'sqrt', 'log2']\n",
        "  }\n",
        "  CV_rfc = GridSearchCV(estimator=rfc, param_grid=param_grid, cv= 5)\n",
        "  CV_rfc.fit(X_train_red, y_train_red)\n",
        "  return CV_rfc.best_params_\n",
        "\n",
        "best_params_rfc = grid_search_random_forest(X_train_red_onehot, y_train_red)\n",
        "print(best_params_rfc)"
      ],
      "execution_count": null,
      "outputs": [
        {
          "output_type": "stream",
          "text": [
            "{'max_features': 'log2', 'n_estimators': 700}\n"
          ],
          "name": "stdout"
        }
      ]
    },
    {
      "cell_type": "code",
      "metadata": {
        "id": "nqnu85tOGTTF",
        "colab": {
          "base_uri": "https://localhost:8080/"
        },
        "outputId": "823359d6-553f-4cdf-c493-d39c45209071"
      },
      "source": [
        "def to_use_rfc(X_train_red_onehot, y_train_red):\n",
        "  accuracy_scores_forest = []\n",
        "  for train, val in kf.split(X_train_red):\n",
        "      rforest = RandomForestClassifier(max_features= 'log2' ,n_estimators=200)\n",
        "      rforest = rforest.fit(X_train_red_onehot[train],y_train_red[train])\n",
        "      tp1, fn1, fp1, tn1 = metrics.confusion_matrix(y_train_red[val],rforest.predict(X_train_red_onehot[val])).ravel()\n",
        "      r_accuracy = (tn1 + tp1)/(tn1+tp1+fn1+fp1)\n",
        "      r_prec = tp1/(tp1+fp1)\n",
        "      r_rec = tp1/(tp1+fn1)\n",
        "      r_fpr = fp1/(fp1+tn1)\n",
        "      r_f1 = 2*(r_prec)*r_rec/(r_prec+r_rec)\n",
        "      accuracy_scores_forest.append((r_accuracy,r_prec,r_rec,r_fpr,r_f1))\n",
        "\n",
        "  return np.mean(accuracy_scores_forest, axis=0)\n",
        "  \n",
        "\n",
        "metric_rforest = to_use_rfc(X_train_red_onehot, y_train_red)\n",
        "print(metric_rforest)"
      ],
      "execution_count": null,
      "outputs": [
        {
          "output_type": "stream",
          "text": [
            "[0.96325154 0.96273748 0.9715548  0.04714252 0.96711599]\n"
          ],
          "name": "stdout"
        }
      ]
    },
    {
      "cell_type": "markdown",
      "metadata": {
        "id": "uSERAK3oGJed"
      },
      "source": [
        "Logistic Regression"
      ]
    },
    {
      "cell_type": "code",
      "metadata": {
        "id": "tpeprKVjGEp7"
      },
      "source": [
        "from sklearn.linear_model import LogisticRegression\n",
        "from sklearn import metrics\n",
        "from pprint import pprint"
      ],
      "execution_count": null,
      "outputs": []
    },
    {
      "cell_type": "code",
      "metadata": {
        "id": "4ijFfqZVE7PD",
        "colab": {
          "base_uri": "https://localhost:8080/",
          "height": 215
        },
        "outputId": "df8b7f1d-d7c5-48bd-9b82-1717099427da"
      },
      "source": [
        "def to_use_logistic(X_train_red_onehot, y_train_red):\n",
        "\n",
        "  accuracy_scores_log = []\n",
        "  for train, val in kf.split(X_train_red_onehot):\n",
        "    log = LogisticRegression(max_iter = 2500)\n",
        "    log = log.fit(X_train_red_onehot[train], y_train_red[train])\n",
        "    tp, fn, fp, tn = metrics.confusion_matrix(y_train_red[val], log.predict(X_train_red_onehot[val])).ravel()\n",
        "    accuracy = (tn+tp)/(fp+fn+tp+tn)\n",
        "    precision = tp/(tp+fp)\n",
        "    recall = tp/(tp+fn)\n",
        "    fpr = fp/(fp+tn)\n",
        "    f1 = 2*precision*recall/(precision + recall)\n",
        "    accuracy_scores_log.append((accuracy, precision, recall, fpr, f1))\n",
        "  \n",
        "  return np.mean(accuracy_scores_log, axis=0)\n",
        "\n",
        "metric_logistic = to_use_logistic(X_train_red_onehot, y_train_red)\n",
        "print(metric_logistic)"
      ],
      "execution_count": 1,
      "outputs": [
        {
          "output_type": "error",
          "ename": "NameError",
          "evalue": "ignored",
          "traceback": [
            "\u001b[0;31m---------------------------------------------------------------------------\u001b[0m",
            "\u001b[0;31mNameError\u001b[0m                                 Traceback (most recent call last)",
            "\u001b[0;32m<ipython-input-1-6b77547e1d71>\u001b[0m in \u001b[0;36m<module>\u001b[0;34m()\u001b[0m\n\u001b[1;32m     15\u001b[0m   \u001b[0;32mreturn\u001b[0m \u001b[0mnp\u001b[0m\u001b[0;34m.\u001b[0m\u001b[0mmean\u001b[0m\u001b[0;34m(\u001b[0m\u001b[0maccuracy_scores_log\u001b[0m\u001b[0;34m,\u001b[0m \u001b[0maxis\u001b[0m\u001b[0;34m=\u001b[0m\u001b[0;36m0\u001b[0m\u001b[0;34m)\u001b[0m\u001b[0;34m\u001b[0m\u001b[0;34m\u001b[0m\u001b[0m\n\u001b[1;32m     16\u001b[0m \u001b[0;34m\u001b[0m\u001b[0m\n\u001b[0;32m---> 17\u001b[0;31m \u001b[0mmetric_logistic\u001b[0m \u001b[0;34m=\u001b[0m \u001b[0mto_use_logistic\u001b[0m\u001b[0;34m(\u001b[0m\u001b[0mX_train_red_onehot\u001b[0m\u001b[0;34m,\u001b[0m \u001b[0my_train_red\u001b[0m\u001b[0;34m)\u001b[0m\u001b[0;34m\u001b[0m\u001b[0;34m\u001b[0m\u001b[0m\n\u001b[0m\u001b[1;32m     18\u001b[0m \u001b[0mprint\u001b[0m\u001b[0;34m(\u001b[0m\u001b[0mmetric_logistic\u001b[0m\u001b[0;34m)\u001b[0m\u001b[0;34m\u001b[0m\u001b[0;34m\u001b[0m\u001b[0m\n",
            "\u001b[0;31mNameError\u001b[0m: name 'X_train_red_onehot' is not defined"
          ]
        }
      ]
    },
    {
      "cell_type": "markdown",
      "metadata": {
        "id": "lvHNkQStTUCR"
      },
      "source": [
        "SVC"
      ]
    },
    {
      "cell_type": "code",
      "metadata": {
        "id": "fdmKpF2aTQw1"
      },
      "source": [
        "from sklearn import svm\n",
        "from sklearn.model_selection import GridSearchCV"
      ],
      "execution_count": 30,
      "outputs": []
    },
    {
      "cell_type": "code",
      "metadata": {
        "id": "4vo6pfVuTXv1"
      },
      "source": [
        "def grid_search_svm(X_train_red_onehot, y_train_red):\n",
        "  svm_clf = svm.SVC()\n",
        "  param_grid = {'C': [0.1, 1, 10, 100],  \n",
        "                'gamma': [1, 0.1, 0.01, 0.001], \n",
        "                'kernel': ['rbf', 'linear']}  \n",
        "\n",
        "  gs_svm = GridSearchCV(svm.SVC(), param_grid, cv = 3)\n",
        "  gs_results = gs_svm.fit(X_train_red_onehot, y_train_red)\n",
        "\n",
        "  return gs_results.best_params_\n",
        "\n",
        "bestparams_svm = grid_search_svm(X_train_red_onehot, y_train_red)\n",
        "print(bestparams_svm)"
      ],
      "execution_count": 31,
      "outputs": []
    },
    {
      "cell_type": "code",
      "metadata": {
        "id": "Rw2nvPyUTaVT",
        "colab": {
          "base_uri": "https://localhost:8080/",
          "height": 1000
        },
        "outputId": "050635f0-602f-4b15-ab8e-ff5cf1c178c8"
      },
      "source": [
        "def to_use_SVM(X_train_red_onehot, y_train_red):\n",
        "  accuracy_scores_svm = []\n",
        "  for train, val in kf.split(X_train_red_onehot):\n",
        "    svm_clf = svm.SVC(kernel='rbf', gamma = 0.1, C = 10, probability=True)\n",
        "    svm_clf = svm_clf.fit(X_train_red_onehot[train], y_train_red[train])\n",
        "    tp, fn, fp, tn = metrics.confusion_matrix(y_train_red[val], svm_clf.predict(X_train_red_onehot[val])).ravel()\n",
        "    plot_cm(y_train_red[val], svm_clf.predict(X_train_red_onehot[val]))\n",
        "    \n",
        "    accuracy = (tn+tp)/(fp+fn+tp+tn)\n",
        "    precision = tp/(tp+fp)\n",
        "    recall = tp/(tp+fn)\n",
        "    fpr = fp/(fp+tn)\n",
        "    f1 = 2*precision*recall/(precision + recall)\n",
        "    accuracy_scores_svm.append((accuracy, precision, recall, fpr, f1))\n",
        "\n",
        "\n",
        "  return np.mean(accuracy_scores_svm, axis=0)\n",
        "\n",
        "metric_svm = to_use_SVM(X_train_red_onehot, y_train_red)\n",
        "print(metric_svm)\n"
      ],
      "execution_count": 34,
      "outputs": [
        {
          "output_type": "stream",
          "text": [
            "[0.96110305 0.96238896 0.96788512 0.04738314 0.96512393]\n"
          ],
          "name": "stdout"
        },
        {
          "output_type": "display_data",
          "data": {
            "image/png": "[encoded data removed]",
            "text/plain": [
              "<Figure size 432x288 with 2 Axes>"
            ]
          },
          "metadata": {
            "tags": [],
            "needs_background": "light"
          }
        },
        {
          "output_type": "display_data",
          "data": {
            "image/png": "[encoded data removed]",
            "text/plain": [
              "<Figure size 432x288 with 2 Axes>"
            ]
          },
          "metadata": {
            "tags": [],
            "needs_background": "light"
          }
        },
        {
          "output_type": "display_data",
          "data": {
            "image/png": "[encoded data removed]",
            "text/plain": [
              "<Figure size 432x288 with 2 Axes>"
            ]
          },
          "metadata": {
            "tags": [],
            "needs_background": "light"
          }
        },
        {
          "output_type": "display_data",
          "data": {
            "image/png": "[encoded data removed]",
            "text/plain": [
              "<Figure size 432x288 with 2 Axes>"
            ]
          },
          "metadata": {
            "tags": [],
            "needs_background": "light"
          }
        },
        {
          "output_type": "display_data",
          "data": {
            "image/png": "[encoded data removed]",
            "text/plain": [
              "<Figure size 432x288 with 2 Axes>"
            ]
          },
          "metadata": {
            "tags": [],
            "needs_background": "light"
          }
        }
      ]
    },
    {
      "cell_type": "code",
      "metadata": {
        "id": "lKZGUlS_TpOE",
        "colab": {
          "base_uri": "https://localhost:8080/"
        },
        "outputId": "1d80bd53-f0aa-4c8f-95ac-889ac9cd1bb4"
      },
      "source": [
        "def to_test_SVM(X_test_red_onehot, y_test_red, X_train_red_onehot, y_train_red):\n",
        "  svm_clf = svm.SVC(kernel='rbf', gamma = 0.1, C = 10, probability=True)\n",
        "  svm_clf = svm_clf.fit(X_train_red_onehot, y_train_red)\n",
        "  tp, fn, fp, tn = metrics.confusion_matrix(y_test_red, svm_clf.predict(X_test_red_onehot)).ravel()\n",
        "  accuracy = (tn+tp)/(fp+fn+tp+tn)\n",
        "  precision = tp/(tp+fp)\n",
        "  recall = tp/(tp+fn)\n",
        "  fpr = fp/(fp+tn)\n",
        "  f1 = 2*precision*recall/(precision + recall)\n",
        "  pickle.dump(svm_clf, open(\"SVM_Final_Model\", 'wb'))\n",
        "  return accuracy\n",
        "\n",
        "test_accuracy = to_test_SVM(X_test_red_onehot, y_test_red, X_train_red_onehot, y_train_red)\n",
        "print(test_accuracy)"
      ],
      "execution_count": 35,
      "outputs": [
        {
          "output_type": "stream",
          "text": [
            "0.9629127091813658\n"
          ],
          "name": "stdout"
        }
      ]
    },
    {
      "cell_type": "code",
      "metadata": {
        "colab": {
          "base_uri": "https://localhost:8080/"
        },
        "id": "t9qNXFfrJtCQ",
        "outputId": "6aeb7d24-1836-4948-a585-53d0ca47317c"
      },
      "source": [
        "filename_dt = 'SVM_Final_Model'\n",
        "loaded_model = pickle.load(open(filename_dt, 'rb'))\n",
        "tp, fn, fp, tn = metrics.confusion_matrix(y_train_red, loaded_model.predict(X_train_red_onehot)).ravel()\n",
        "accuracy = (tn+tp)/(fp+fn+tp+tn)\n",
        "recall = tp/(tp+fn)\n",
        "fpr = fp/(fp+tn)\n",
        "print(accuracy)\n",
        "print(recall)\n",
        "print(fpr)\n"
      ],
      "execution_count": 37,
      "outputs": [
        {
          "output_type": "stream",
          "text": [
            "0.9795341474445952\n",
            "0.9786845310596833\n",
            "0.019397651863195507\n"
          ],
          "name": "stdout"
        }
      ]
    },
    {
      "cell_type": "code",
      "metadata": {
        "colab": {
          "base_uri": "https://localhost:8080/"
        },
        "id": "qeQaIjQaP6cj",
        "outputId": "16ed6533-5f71-45a5-f0cc-69d83ff1dcf0"
      },
      "source": [
        "filename_dt = 'SVM_Final_Model'\n",
        "loaded_model = pickle.load(open(filename_dt, 'rb'))\n",
        "tp, fn, fp, tn = metrics.confusion_matrix(y_test_red, loaded_model.predict(X_test_red_onehot)).ravel()\n",
        "accuracy = (tn+tp)/(fp+fn+tp+tn)\n",
        "recall = tp/(tp+fn)\n",
        "fpr = fp/(fp+tn)\n",
        "print(accuracy)\n",
        "print(recall)\n",
        "print(fpr)"
      ],
      "execution_count": 38,
      "outputs": [
        {
          "output_type": "stream",
          "text": [
            "0.9629127091813658\n",
            "0.9642567018683996\n",
            "0.03877551020408163\n"
          ],
          "name": "stdout"
        }
      ]
    },
    {
      "cell_type": "code",
      "metadata": {
        "colab": {
          "base_uri": "https://localhost:8080/",
          "height": 534
        },
        "id": "jy4he4xG4Ddf",
        "outputId": "e0d4618c-c00b-423c-f286-bfbf8323ab3c"
      },
      "source": [
        "from sklearn.manifold import TSNE\n",
        "\n",
        "def tsne_analysis():\n",
        "  \"\"\" For TSNE analysis on the training dataset with \n",
        "  last hidden layer output\"\"\"\n",
        "\n",
        "  filename_dt = 'SVM_Final_Model'\n",
        "  loaded_model = pickle.load(open(filename_dt, 'rb'))\n",
        "  \n",
        "  hidden_opt = loaded_model.predict_proba(X_train_red_onehot)\n",
        "  df = pd.DataFrame(hidden_opt)\n",
        "  df['y'] = y_train_red\n",
        "  df['label'] = df['y'].apply(lambda i: str(i))\n",
        "  tsne = TSNE(n_components = 2, perplexity = 50, verbose = 1, n_iter = 1000)\n",
        "  tsne_res = tsne.fit_transform(hidden_opt)\n",
        "\n",
        "  df['TSNE 1st component'] = tsne_res[:,0]\n",
        "  df['TSNE 2nd component'] = tsne_res[:,1]\n",
        "\n",
        "  sns.scatterplot(\n",
        "    x = \"TSNE 1st component\", y = \"TSNE 2nd component\",\n",
        "    hue = 'y',\n",
        "    palette = sns.color_palette(\"hls\", 2),\n",
        "    data = df,\n",
        "    legend = \"full\",\n",
        "    alpha = 0.3\n",
        "  )\n",
        "  plt.show()\n",
        "\n",
        "tsne_analysis()"
      ],
      "execution_count": 47,
      "outputs": [
        {
          "output_type": "stream",
          "text": [
            "[t-SNE] Computing 151 nearest neighbors...\n",
            "[t-SNE] Indexed 8844 samples in 0.005s...\n",
            "[t-SNE] Computed neighbors for 8844 samples in 0.176s...\n",
            "[t-SNE] Computed conditional probabilities for sample 1000 / 8844\n",
            "[t-SNE] Computed conditional probabilities for sample 2000 / 8844\n",
            "[t-SNE] Computed conditional probabilities for sample 3000 / 8844\n",
            "[t-SNE] Computed conditional probabilities for sample 4000 / 8844\n",
            "[t-SNE] Computed conditional probabilities for sample 5000 / 8844\n",
            "[t-SNE] Computed conditional probabilities for sample 6000 / 8844\n",
            "[t-SNE] Computed conditional probabilities for sample 7000 / 8844\n",
            "[t-SNE] Computed conditional probabilities for sample 8000 / 8844\n",
            "[t-SNE] Computed conditional probabilities for sample 8844 / 8844\n",
            "[t-SNE] Mean sigma: 0.000000\n",
            "[t-SNE] KL divergence after 250 iterations with early exaggeration: 55.140633\n",
            "[t-SNE] KL divergence after 1000 iterations: 0.221202\n"
          ],
          "name": "stdout"
        },
        {
          "output_type": "display_data",
          "data": {
            "image/png": "[encoded data removed]",
            "text/plain": [
              "<Figure size 432x288 with 1 Axes>"
            ]
          },
          "metadata": {
            "tags": [],
            "needs_background": "light"
          }
        }
      ]
    }
  ]
}