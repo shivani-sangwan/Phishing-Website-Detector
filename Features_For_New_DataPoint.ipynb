{
  "nbformat": 4,
  "nbformat_minor": 0,
  "metadata": {
    "colab": {
      "name": "Features_For_New_DataPoint.ipynb",
      "provenance": [],
      "collapsed_sections": [],
      "include_colab_link": true
    },
    "kernelspec": {
      "name": "python3",
      "display_name": "Python 3"
    }
  },
  "cells": [
    {
      "cell_type": "markdown",
      "metadata": {
        "id": "view-in-github",
        "colab_type": "text"
      },
      "source": [
        "<a href=\"https://colab.research.google.com/github/himanshi18037/WhatAPhish/blob/main/Features_For_New_DataPoint.ipynb\" target=\"_parent\"><img src=\"https://colab.research.google.com/assets/colab-badge.svg\" alt=\"Open In Colab\"/></a>"
      ]
    },
    {
      "cell_type": "markdown",
      "metadata": {
        "id": "0IAWmXsOjjxP"
      },
      "source": [
        "1. Shortened URL\n",
        "2. Redirect"
      ]
    },
    {
      "cell_type": "code",
      "metadata": {
        "id": "7xCHKKrGjyX0"
      },
      "source": [
        "import os\n",
        "import requests\n",
        "from subprocess import *\n",
        "from bs4 import BeautifulSoup\n",
        "import json\n",
        "import base64"
      ],
      "execution_count": null,
      "outputs": []
    },
    {
      "cell_type": "code",
      "metadata": {
        "colab": {
          "base_uri": "https://localhost:8080/"
        },
        "id": "jaiZC8L-l9bl",
        "outputId": "a20dc089-2164-4704-a9e4-1229a1f2abdb"
      },
      "source": [
        "!pip install python-whois"
      ],
      "execution_count": null,
      "outputs": [
        {
          "output_type": "stream",
          "text": [
            "Collecting python-whois\n",
            "\u001b[?25l  Downloading https://files.pythonhosted.org/packages/4b/c6/85268f0cef6a1c7e466140437c8fe49eb12c203d9a31be6d2976a29c7266/python-whois-0.7.3.tar.gz (91kB)\n",
            "\r\u001b[K     |███▋                            | 10kB 17.4MB/s eta 0:00:01\r\u001b[K     |███████▏                        | 20kB 23.4MB/s eta 0:00:01\r\u001b[K     |██████████▊                     | 30kB 17.2MB/s eta 0:00:01\r\u001b[K     |██████████████▎                 | 40kB 15.5MB/s eta 0:00:01\r\u001b[K     |██████████████████              | 51kB 14.7MB/s eta 0:00:01\r\u001b[K     |█████████████████████▌          | 61kB 13.0MB/s eta 0:00:01\r\u001b[K     |█████████████████████████       | 71kB 10.8MB/s eta 0:00:01\r\u001b[K     |████████████████████████████▋   | 81kB 11.7MB/s eta 0:00:01\r\u001b[K     |████████████████████████████████| 92kB 5.1MB/s \n",
            "\u001b[?25hRequirement already satisfied: future in /usr/local/lib/python3.6/dist-packages (from python-whois) (0.16.0)\n",
            "Building wheels for collected packages: python-whois\n",
            "  Building wheel for python-whois (setup.py) ... \u001b[?25l\u001b[?25hdone\n",
            "  Created wheel for python-whois: filename=python_whois-0.7.3-cp36-none-any.whl size=87703 sha256=021127581ec3a690fd4a9574ff7d67705b6e58eefbff44567804337d58136035\n",
            "  Stored in directory: /root/.cache/pip/wheels/12/3c/9b/901b7deea1fa960f9abfd84df82414dff215c4a1d6869bcea2\n",
            "Successfully built python-whois\n",
            "Installing collected packages: python-whois\n",
            "Successfully installed python-whois-0.7.3\n"
          ],
          "name": "stdout"
        }
      ]
    },
    {
      "cell_type": "code",
      "metadata": {
        "id": "AFtdCl7UlMI_"
      },
      "source": [
        "from urllib.parse import urlparse\n",
        "import favicon\n",
        "import xml.etree.ElementTree as ET \n",
        "import tldextract\n",
        "import datetime\n",
        "from dateutil.relativedelta import relativedelta\n",
        "import whois"
      ],
      "execution_count": null,
      "outputs": []
    },
    {
      "cell_type": "markdown",
      "metadata": {
        "id": "VUo8nQaogpOR"
      },
      "source": [
        "Check IP and Hexa"
      ]
    },
    {
      "cell_type": "code",
      "metadata": {
        "id": "mYzMjjaIgm5g"
      },
      "source": [
        "def to_find_having_ip_add(url):\n",
        "  import string\n",
        "  index = url.find(\"://\")\n",
        "  split_url = url[index+3:]\n",
        "  # print(split_url)\n",
        "  index = split_url.find(\"/\")\n",
        "  split_url = split_url[:index]\n",
        "  # print(split_url)\n",
        "  split_url = split_url.replace(\".\", \"\")\n",
        "  # print(split_url)\n",
        "  counter_hex = 0\n",
        "  for i in split_url:\n",
        "    if i in string.hexdigits:\n",
        "      counter_hex +=1\n",
        "\n",
        "  total_len = len(split_url)\n",
        "  having_IP_Address = 1\n",
        "  if counter_hex >= total_len:\n",
        "    having_IP_Address = -1\n",
        "\n",
        "  return having_IP_Address"
      ],
      "execution_count": null,
      "outputs": []
    },
    {
      "cell_type": "markdown",
      "metadata": {
        "id": "xtJJfoavg0Z-"
      },
      "source": [
        "URL_len"
      ]
    },
    {
      "cell_type": "code",
      "metadata": {
        "id": "ZE7GfdR-g6MT"
      },
      "source": [
        "def to_find_url_len(url):\n",
        "  URL_Length = 1\n",
        "  if len(url)>=75:\n",
        "    URL_Length = -1\n",
        "  elif len(url)>=54 and len(url)<=74:\n",
        "    URL_length = 0\n",
        "  \n",
        "  return URL_Length"
      ],
      "execution_count": null,
      "outputs": []
    },
    {
      "cell_type": "markdown",
      "metadata": {
        "id": "mLfnkcyMPeEf"
      },
      "source": [
        "Shortened URL extraction"
      ]
    },
    {
      "cell_type": "code",
      "metadata": {
        "id": "ul5HHI_Yj4aR"
      },
      "source": [
        "def get_complete_URL(shortened_url):\n",
        "  command_stdout = Popen(['curl', shortened_url], stdout=PIPE).communicate()[0]\n",
        "  output = command_stdout.decode('utf-8')\n",
        "  href_index = output.find(\"href=\")\n",
        "  if href_index == -1:\n",
        "    href_index = output.find(\"HREF=\")\n",
        "  splitted_ = output[href_index:].split('\"')\n",
        "  expanded_url = splitted_[1]\n",
        "  return expanded_url\n"
      ],
      "execution_count": null,
      "outputs": []
    },
    {
      "cell_type": "code",
      "metadata": {
        "id": "eQhQ8r2vIWyT"
      },
      "source": [
        "def check_for_shortened_url(url):\n",
        "  famous_short_urls = [\"bit.ly\", \"tinyurl.com\", \"goo.gl\",\n",
        "                       \"rebrand.ly\", \"t.co\", \"youtu.be\",\n",
        "                       \"ow.ly\", \"w.wiki\", \"is.gd\"]\n",
        "\n",
        "  domain_of_url = url.split(\"://\")[1]\n",
        "  domain_of_url = domain_of_url.split(\"/\")[0]\n",
        "  status = 1\n",
        "  if domain_of_url in famous_short_urls:\n",
        "    status = -1\n",
        "\n",
        "  complete_url = None\n",
        "  if status == -1:\n",
        "    complete_url = get_complete_URL(url)\n",
        "\n",
        "  return (status, complete_url)"
      ],
      "execution_count": null,
      "outputs": []
    },
    {
      "cell_type": "markdown",
      "metadata": {
        "id": "nTjLwBclhCYX"
      },
      "source": [
        "@ in URL"
      ]
    },
    {
      "cell_type": "code",
      "metadata": {
        "id": "RnEoUijohIUD"
      },
      "source": [
        "def to_find_at(url):\n",
        "  label = 1\n",
        "  index = url.find(\"@\")\n",
        "  if index!=-1:\n",
        "    label = -1\n",
        "  \n",
        "  return label"
      ],
      "execution_count": null,
      "outputs": []
    },
    {
      "cell_type": "markdown",
      "metadata": {
        "id": "cydIeKkjhMak"
      },
      "source": [
        "Redirect"
      ]
    },
    {
      "cell_type": "code",
      "metadata": {
        "id": "_uuHCvxvhMM_"
      },
      "source": [
        "def to_find_redirect(url):\n",
        "  index = url.find(\"://\")\n",
        "  split_url = url[index+3:]\n",
        "  label = 1\n",
        "  index = split_url.find(\"//\")\n",
        "  if index!=-1:\n",
        "    label = -1\n",
        "  \n",
        "  return label"
      ],
      "execution_count": null,
      "outputs": []
    },
    {
      "cell_type": "markdown",
      "metadata": {
        "id": "l1TAbBvshVGJ"
      },
      "source": [
        "\"-\" in domain"
      ]
    },
    {
      "cell_type": "code",
      "metadata": {
        "id": "XBV-iQeVhUCm"
      },
      "source": [
        "def to_find_prefix(url):\n",
        "  index = url.find(\"://\")\n",
        "  split_url = url[index+3:]\n",
        "  # print(split_url)\n",
        "  index = split_url.find(\"/\")\n",
        "  split_url = split_url[:index]\n",
        "  # print(split_url)\n",
        "  label = 1\n",
        "  index = split_url.find(\"-\")\n",
        "  # print(index)\n",
        "  if index!=-1:\n",
        "    label = -1\n",
        "  \n",
        "  return label"
      ],
      "execution_count": null,
      "outputs": []
    },
    {
      "cell_type": "markdown",
      "metadata": {
        "id": "wlA8nHt0hiIL"
      },
      "source": [
        "Multi-domains presence"
      ]
    },
    {
      "cell_type": "code",
      "metadata": {
        "id": "yhjguSc6hiwD"
      },
      "source": [
        "def to_find_multi_domains(url):\n",
        "  url = url.split(\"://\")[1]\n",
        "  url = url.split(\"/\")[0]\n",
        "  index = url.find(\"www.\")\n",
        "  split_url = url\n",
        "  if index!=-1:\n",
        "    split_url = url[index+4:]\n",
        "  # print(split_url)\n",
        "  index = split_url.rfind(\".\")\n",
        "  # print(index)\n",
        "  if index!=-1:\n",
        "    split_url = split_url[:index]\n",
        "  # print(split_url)\n",
        "  counter = 0\n",
        "  for i in split_url:\n",
        "    if i==\".\":\n",
        "      counter+=1\n",
        "  \n",
        "  label = 1\n",
        "  if counter==2:\n",
        "    label = 0\n",
        "  elif counter >=3:\n",
        "    label = -1\n",
        "  \n",
        "  return label"
      ],
      "execution_count": null,
      "outputs": []
    },
    {
      "cell_type": "markdown",
      "metadata": {
        "id": "aK4oDs2EhrqQ"
      },
      "source": [
        "Authority"
      ]
    },
    {
      "cell_type": "code",
      "metadata": {
        "id": "-rTWfx98hrVD"
      },
      "source": [
        "def to_find_authority(url):\n",
        "  index_https = url.find(\"https://\")\n",
        "  valid_auth = [\"GeoTrust\", \"GoDaddy\", \"Network Solutions\", \"Thawte\", \"Comodo\", \"Doster\" , \"VeriSign\", \"LinkedIn\", \"Sectigo\",\n",
        "                \"Symantec\", \"DigiCert\", \"Network Solutions\", \"RapidSSLonline\", \"SSL.com\", \"Entrust Datacard\", \"Google\", \"Facebook\"]\n",
        "  \n",
        "  cmd = \"curl -vvI \" + url\n",
        "\n",
        "  stdout = Popen(cmd, shell=True, stderr=PIPE, env={}).stderr\n",
        "  output = stdout.read()\n",
        "  std_out = output.decode('UTF-8')\n",
        "  # print(std_out)\n",
        "  index = std_out.find(\"O=\")\n",
        "\n",
        "  split = std_out[index+2:]\n",
        "  index_sp = split.find(\" \")\n",
        "  cur = split[:index_sp]\n",
        "  \n",
        "  index_sp = cur.find(\",\")\n",
        "  if index_sp!=-1:\n",
        "    cur = cur[:index_sp]\n",
        "  print(cur)\n",
        "  label = -1\n",
        "  if cur in valid_auth and index_https!=-1:\n",
        "    label = 1\n",
        "  \n",
        "  return label"
      ],
      "execution_count": null,
      "outputs": []
    },
    {
      "cell_type": "markdown",
      "metadata": {
        "id": "_4_oWGIzPlJv"
      },
      "source": [
        "Submitting to Email"
      ]
    },
    {
      "cell_type": "code",
      "metadata": {
        "id": "i7ZPjsz2QGLA"
      },
      "source": [
        "def check_submit_to_email(url):\n",
        "  html_content = requests.get(url).text\n",
        "  soup = BeautifulSoup(html_content, \"lxml\")\n",
        "  # Check if no form tag\n",
        "  form_opt = str(soup.form)\n",
        "  idx = form_opt.find(\"mail()\")\n",
        "  if idx == -1:\n",
        "    idx = form_opt.find(\"mailto:\")\n",
        "\n",
        "  if idx == -1:\n",
        "    return 1\n",
        "  return -1"
      ],
      "execution_count": null,
      "outputs": []
    },
    {
      "cell_type": "markdown",
      "metadata": {
        "id": "A8PqbI3niSFe"
      },
      "source": [
        "https as part of domain"
      ]
    },
    {
      "cell_type": "code",
      "metadata": {
        "id": "oU85miS7iPxv"
      },
      "source": [
        "def existenceoftoken(u):\n",
        "    # Assumption - pagename cannot start with this token\n",
        "    ix = u.find(\"//https\")\n",
        "    if(ix==-1):\n",
        "        return 1\n",
        "    else:\n",
        "        return -1"
      ],
      "execution_count": null,
      "outputs": []
    },
    {
      "cell_type": "markdown",
      "metadata": {
        "id": "RuM2Ca_pkMmZ"
      },
      "source": [
        "Domain registration Length"
      ]
    },
    {
      "cell_type": "code",
      "metadata": {
        "id": "h_aacQCIkNGL"
      },
      "source": [
        "def dregisterlen(u):\n",
        "    extract_res = tldextract.extract(u)\n",
        "    ul = extract_res.domain + \".\" + extract_res.suffix\n",
        "    try:\n",
        "        wres = whois.whois(u)\n",
        "        f = wres[\"Creation Date\"][0]\n",
        "        s = wres[\"Registry Expiry Date\"][0]\n",
        "        if(s>f+relativedelta(months=+12)):\n",
        "            return 1\n",
        "        else:\n",
        "            return -1\n",
        "    except:\n",
        "        return -1"
      ],
      "execution_count": null,
      "outputs": []
    },
    {
      "cell_type": "markdown",
      "metadata": {
        "id": "G5_meAfNk0Iy"
      },
      "source": [
        "SFH"
      ]
    },
    {
      "cell_type": "code",
      "metadata": {
        "id": "nz3JGojVkywH"
      },
      "source": [
        "def sfh(u):\n",
        "    programhtml = requests.get(u).text\n",
        "    s = BeautifulSoup(programhtml,\"lxml\")\n",
        "    try:\n",
        "        f = str(s.form)\n",
        "        ac = f.find(\"action\")\n",
        "        if(ac!=-1):\n",
        "            i1 = f[ac:].find(\">\")\n",
        "            u1 = f[ac+8:i1-1]\n",
        "            if(u1==\"\" or u1==\"about:blank\"):\n",
        "                return -1\n",
        "            er1 = tldextract.extract(u)\n",
        "            upage = erl.domain\n",
        "            erl2 = tldextract.extract(u1)\n",
        "            usfh = erl2.domain\n",
        "            if upage in usfh:\n",
        "                return 1\n",
        "            return 0\n",
        "        else:\n",
        "            # Check this point\n",
        "            return 1\n",
        "    except:\n",
        "        # Check this point\n",
        "        return 1"
      ],
      "execution_count": null,
      "outputs": []
    },
    {
      "cell_type": "markdown",
      "metadata": {
        "id": "QhskTOjPk_un"
      },
      "source": [
        "Tags"
      ]
    },
    {
      "cell_type": "code",
      "metadata": {
        "id": "R6j_vjiAk_bE"
      },
      "source": [
        "def tags(u):\n",
        "    programhtml = requests.get(u).text\n",
        "    s = BeautifulSoup(programhtml,\"lxml\")\n",
        "    mtags = s.find_all('Meta')\n",
        "    ud = tldextract.extract(u)\n",
        "    upage = ud.domain\n",
        "    mcount = 0\n",
        "    for i in mtags:\n",
        "        u1 = i['href']\n",
        "        currpage = tldextract.extract(u1)\n",
        "        u1page = currpage.domain\n",
        "        if currpage not in ulpage:\n",
        "            mcount+=1\n",
        "    scount = 0\n",
        "    stags = s.find_all('Script')\n",
        "    for j in stags:\n",
        "        u1 = j['href']\n",
        "        currpage = tldextract.extract(u1)\n",
        "        u1page = currpage.domain\n",
        "        if currpage not in u1page:\n",
        "            scount+=1\n",
        "    lcount = 0\n",
        "    ltags = s.find_all('Link')\n",
        "    for k in ltags:\n",
        "        u1 = k['href']\n",
        "        currpage = tldextract.extract(u1)\n",
        "        u1page = currpage.domain\n",
        "        if currpage not in u1page:\n",
        "            lcount+=1\n",
        "    percmtag = 0\n",
        "    percstag = 0\n",
        "    percltag = 0\n",
        "\n",
        "    if len(mtags) != 0:\n",
        "      percmtag = (mcount*100)//len(mtags)\n",
        "    if len(stags) != 0:\n",
        "      percstag = (scount*100)//len(stags)\n",
        "    if len(ltags) != 0:\n",
        "      percltag = (lcount*100)//len(ltags)\n",
        "      \n",
        "    if(percmtag+percstag+percltag<17):\n",
        "        return 1\n",
        "    elif(percmtag+percstag+percltag<=81):\n",
        "        return 0\n",
        "    return -1"
      ],
      "execution_count": null,
      "outputs": []
    },
    {
      "cell_type": "markdown",
      "metadata": {
        "id": "3ddho0L9Wxq5"
      },
      "source": [
        "Redirect"
      ]
    },
    {
      "cell_type": "code",
      "metadata": {
        "id": "5lHuDnnvsk7I"
      },
      "source": [
        "def url_validator(url):\n",
        "    try:\n",
        "        result = urlparse(url)\n",
        "        return all([result.scheme, result.netloc, result.path])\n",
        "    except:\n",
        "        return False"
      ],
      "execution_count": null,
      "outputs": []
    },
    {
      "cell_type": "code",
      "metadata": {
        "id": "gCqCUq6GQGag"
      },
      "source": [
        "def redirect(url):\n",
        "  opt = Popen([\"sh\", \"/red.sh\", url], stdout=PIPE).communicate()[0]\n",
        "  opt = opt.decode('utf-8')\n",
        "  # print(opt)\n",
        "  opt = opt.split(\"\\n\")\n",
        "  \n",
        "  new = []\n",
        "  for i in opt:\n",
        "    i = i.replace(\"\\r\", \" \")\n",
        "    new.extend(i.split(\" \"))\n",
        "  \n",
        "\n",
        "  count = 0\n",
        "  for i in new:\n",
        "   \n",
        "    if i.isdigit():\n",
        "      conv = int(i)\n",
        "      if conv > 300 and conv<310:\n",
        "        count += 1\n",
        "\n",
        "  last_url = None\n",
        "  for i in new[::-1]:\n",
        "    if url_validator(i):\n",
        "      last_url = i\n",
        "      break\n",
        "\n",
        "  if (count<=1):\n",
        "    return 1, last_url\n",
        "  elif count>=2 and count <4:\n",
        "    return 0, last_url\n",
        "  return -1, last_url"
      ],
      "execution_count": null,
      "outputs": []
    },
    {
      "cell_type": "code",
      "metadata": {
        "id": "dOh4mFIfq67y"
      },
      "source": [
        "ur = \"https://bit.ly/segfault\""
      ],
      "execution_count": null,
      "outputs": []
    },
    {
      "cell_type": "code",
      "metadata": {
        "id": "ufN33EVuqPQo"
      },
      "source": [
        "phish_url2 = \"https://oxify.me/tuT2y\""
      ],
      "execution_count": null,
      "outputs": []
    },
    {
      "cell_type": "code",
      "metadata": {
        "colab": {
          "base_uri": "https://localhost:8080/"
        },
        "id": "nY0v1wE0qQeC",
        "outputId": "410cb57c-e389-499f-9aab-8071159087b4"
      },
      "source": [
        "redirect(phish_url2)"
      ],
      "execution_count": null,
      "outputs": [
        {
          "output_type": "execute_result",
          "data": {
            "text/plain": [
              "(0, 'https://mgsse.expressconnect.company/?s1=822225&kw=KW')"
            ]
          },
          "metadata": {
            "tags": []
          },
          "execution_count": 206
        }
      ]
    },
    {
      "cell_type": "markdown",
      "metadata": {
        "id": "SpUAi_ch-yXQ"
      },
      "source": [
        "Statistical Reports"
      ]
    },
    {
      "cell_type": "code",
      "metadata": {
        "id": "VHHIjGKe91Q6"
      },
      "source": [
        "def check_statistical_report(url):\n",
        "  phishTankKey = open('/phishTankKey.txt')\n",
        "  phishTankKey = phishTankKey.readline()[:-1]\n",
        "\n",
        "  headers = {\n",
        "        'format': 'json',\n",
        "        'app_key': phishTankKey,\n",
        "        }\n",
        "\n",
        "  def get_url_with_ip(URI):\n",
        "      \"\"\"Returns url with added URI for request\"\"\"\n",
        "      url = \"http://checkurl.phishtank.com/checkurl/\"\n",
        "      new_check_bytes = URI.encode()\n",
        "      base64_bytes = base64.b64encode(new_check_bytes)\n",
        "      base64_new_check = base64_bytes.decode('ascii')\n",
        "      url += base64_new_check\n",
        "      return url\n",
        "\n",
        "  def send_the_request_to_phish_tank(url, headers):\n",
        "      \"\"\"This function sends a request.\"\"\"\n",
        "      response = requests.request(\"POST\", url=url, headers=headers)\n",
        "      return response\n",
        "\n",
        "  url = get_url_with_ip(url)\n",
        "  r = send_the_request_to_phish_tank(url, headers)\n",
        "\n",
        "  def parseXML(xmlfile): \n",
        "\n",
        "    root = ET.fromstring(xmlfile) \n",
        "    verified = False\n",
        "    for item in root.iter('verified'): \n",
        "      if item.text == \"true\":\n",
        "        verified = True\n",
        "        break\n",
        "\n",
        "    phishing = False\n",
        "    if verified:\n",
        "      for item in root.iter('valid'): \n",
        "        if item.text == \"true\":\n",
        "          phishing = True\n",
        "          break\n",
        "\n",
        "    return phishing\n",
        "\n",
        "  inphTank = parseXML(r.text)\n",
        "  # print(r.text)\n",
        "\n",
        "  if inphTank:\n",
        "    return -1\n",
        "  return 1"
      ],
      "execution_count": null,
      "outputs": []
    },
    {
      "cell_type": "code",
      "metadata": {
        "id": "Zsy_200mQGfz",
        "colab": {
          "base_uri": "https://localhost:8080/"
        },
        "outputId": "3991a115-4538-4b4a-81b4-8a93eaf33916"
      },
      "source": [
        "check_statistical_report(\"https://oxify.me/tuT2y\")"
      ],
      "execution_count": null,
      "outputs": [
        {
          "output_type": "execute_result",
          "data": {
            "text/plain": [
              "1"
            ]
          },
          "metadata": {
            "tags": []
          },
          "execution_count": 152
        }
      ]
    },
    {
      "cell_type": "markdown",
      "metadata": {
        "id": "jVD7BFBM-57v"
      },
      "source": [
        "PageRank"
      ]
    },
    {
      "cell_type": "code",
      "metadata": {
        "id": "CaeBhvIPIHAy"
      },
      "source": [
        "!pip install tldextract"
      ],
      "execution_count": null,
      "outputs": []
    },
    {
      "cell_type": "code",
      "metadata": {
        "id": "L4L61JisYHbW"
      },
      "source": [
        "def get_pagerank(url):\n",
        "  pageRankApi = open('/pageRankApi').readline()[:-2]\n",
        "  extract_res = tldextract.extract(url)\n",
        "  url_ref = extract_res.domain + \".\" + extract_res.suffix\n",
        "  headers = {'API-OPR': pageRankApi}\n",
        "  domain = url_ref\n",
        "  req_url = 'https://openpagerank.com/api/v1.0/getPageRank?domains%5B0%5D=' + domain\n",
        "  request = requests.get(req_url, headers=headers)\n",
        "  result = request.json()\n",
        "  # print(result)\n",
        "  value = result['response'][0]['page_rank_decimal']\n",
        "  if type(value) == str:\n",
        "    value = 0\n",
        "\n",
        "  if value < 2:\n",
        "    return -1\n",
        "  return 1\n"
      ],
      "execution_count": null,
      "outputs": []
    },
    {
      "cell_type": "code",
      "metadata": {
        "colab": {
          "base_uri": "https://localhost:8080/"
        },
        "id": "LlKi6YTEIsMk",
        "outputId": "2f78c9e0-0a71-4364-bbba-86c0ff149efa"
      },
      "source": [
        "get_pagerank(\"https://linked.in\")"
      ],
      "execution_count": null,
      "outputs": [
        {
          "output_type": "execute_result",
          "data": {
            "text/plain": [
              "1"
            ]
          },
          "metadata": {
            "tags": []
          },
          "execution_count": 149
        }
      ]
    },
    {
      "cell_type": "markdown",
      "metadata": {
        "id": "5a_MWwjheeP-"
      },
      "source": [
        "Web traffic"
      ]
    },
    {
      "cell_type": "code",
      "metadata": {
        "id": "NqfGV_hCjtCy"
      },
      "source": [
        "def check_web_traffic(url):\n",
        "  extract_res = tldextract.extract(url)\n",
        "  url_ref = extract_res.domain + \".\" + extract_res.suffix\n",
        "  html_content = requests.get(\"https://www.alexa.com/siteinfo/\" + url_ref).text\n",
        "  soup = BeautifulSoup(html_content, \"lxml\")\n",
        "  value = str(soup.find('div', {'class': \"rankmini-rank\"}))[42:].split(\"\\n\")[0].replace(\",\", \"\")\n",
        "\n",
        "  if not value.isdigit():\n",
        "    return -1\n",
        "\n",
        "  value = int(value)\n",
        "  if value < 100000:\n",
        "    return 1\n",
        "  return 0"
      ],
      "execution_count": null,
      "outputs": []
    },
    {
      "cell_type": "code",
      "metadata": {
        "id": "jqIvt_DVfy8Y"
      },
      "source": [
        "url = \"https://hokk-i.com\""
      ],
      "execution_count": null,
      "outputs": []
    },
    {
      "cell_type": "code",
      "metadata": {
        "colab": {
          "base_uri": "https://localhost:8080/"
        },
        "id": "SW34EuowYgAD",
        "outputId": "6ed7a8f6-3f03-4d8e-b08a-ae4ea03d53af"
      },
      "source": [
        "check_web_traffic(url)"
      ],
      "execution_count": null,
      "outputs": [
        {
          "output_type": "execute_result",
          "data": {
            "text/plain": [
              "-1"
            ]
          },
          "metadata": {
            "tags": []
          },
          "execution_count": 221
        }
      ]
    },
    {
      "cell_type": "markdown",
      "metadata": {
        "id": "WduYphbLqhco"
      },
      "source": [
        "DNS Record"
      ]
    },
    {
      "cell_type": "code",
      "metadata": {
        "id": "s6RZjSQ4Mcmo"
      },
      "source": [
        "!apt-get install whois"
      ],
      "execution_count": null,
      "outputs": []
    },
    {
      "cell_type": "code",
      "metadata": {
        "id": "CEiHGS-WLjyJ"
      },
      "source": [
        "!pip install python-whois"
      ],
      "execution_count": null,
      "outputs": []
    },
    {
      "cell_type": "code",
      "metadata": {
        "id": "-UGufC8AeI3h"
      },
      "source": [
        "def check_dns_record(url):\n",
        "  extract_res = tldextract.extract(url)\n",
        "  url_ref = extract_res.domain + \".\" + extract_res.suffix\n",
        "  try:\n",
        "    whois_res = whois.whois(url)\n",
        "    return 1\n",
        "  except:\n",
        "    return -1"
      ],
      "execution_count": null,
      "outputs": []
    },
    {
      "cell_type": "code",
      "metadata": {
        "id": "WlUCJnM6qoQ2"
      },
      "source": [
        "url = \"goiigle.com\"\n",
        "check_dns_record(url)"
      ],
      "execution_count": null,
      "outputs": []
    },
    {
      "cell_type": "markdown",
      "metadata": {
        "id": "-DydzM1Pe5Os"
      },
      "source": [
        "Age of Domain"
      ]
    },
    {
      "cell_type": "code",
      "metadata": {
        "id": "pWT_DVnGfrWW"
      },
      "source": [
        "url = \"hokk-i.com\""
      ],
      "execution_count": null,
      "outputs": []
    },
    {
      "cell_type": "code",
      "metadata": {
        "id": "sWVPl7gEqoFq"
      },
      "source": [
        "def check_age_of_domain(url):\n",
        "  extract_res = tldextract.extract(url)\n",
        "  url_ref = extract_res.domain + \".\" + extract_res.suffix\n",
        "  try:\n",
        "    whois_res = whois.whois(url)\n",
        "    if datetime.datetime.now() > whois_res[\"creation_date\"][0] + relativedelta(months=+6):\n",
        "      return 1\n",
        "    else:\n",
        "      return -1\n",
        "  except:\n",
        "    return -1"
      ],
      "execution_count": null,
      "outputs": []
    },
    {
      "cell_type": "code",
      "metadata": {
        "colab": {
          "base_uri": "https://localhost:8080/"
        },
        "id": "ac6P3uGBfKYG",
        "outputId": "a05b99c8-0d49-428a-96b4-fd604a618d77"
      },
      "source": [
        "check_age_of_domain(url)"
      ],
      "execution_count": null,
      "outputs": [
        {
          "output_type": "stream",
          "text": [
            "-1\n"
          ],
          "name": "stdout"
        }
      ]
    },
    {
      "cell_type": "markdown",
      "metadata": {
        "id": "my5Rk-dyjOH3"
      },
      "source": [
        "IFrame"
      ]
    },
    {
      "cell_type": "code",
      "metadata": {
        "id": "wLRxgyTtpiJ1"
      },
      "source": [
        "url = 'https://xavier-net.gq/?login=do'"
      ],
      "execution_count": null,
      "outputs": []
    },
    {
      "cell_type": "code",
      "metadata": {
        "id": "X-U_jzAifKUo"
      },
      "source": [
        "def check_iframe(url):\n",
        "  html_content = requests.get(url).text\n",
        "  soup = BeautifulSoup(html_content, \"lxml\")\n",
        "  if str(soup.iframe).lower().find(\"frameborder\") == -1:\n",
        "    return 1\n",
        "  return -1"
      ],
      "execution_count": null,
      "outputs": []
    },
    {
      "cell_type": "code",
      "metadata": {
        "colab": {
          "base_uri": "https://localhost:8080/"
        },
        "id": "K5OCzARzfKRL",
        "outputId": "0db7ef55-38bd-41c6-f78b-03d179101ab9"
      },
      "source": [
        "check_iframe(\"https://www.google.com\")"
      ],
      "execution_count": null,
      "outputs": [
        {
          "output_type": "execute_result",
          "data": {
            "text/plain": [
              "1"
            ]
          },
          "metadata": {
            "tags": []
          },
          "execution_count": 56
        }
      ]
    },
    {
      "cell_type": "markdown",
      "metadata": {
        "id": "Xwoy5lGS0sNa"
      },
      "source": [
        "Rightclick"
      ]
    },
    {
      "cell_type": "code",
      "metadata": {
        "id": "D7UNr4-20x1K"
      },
      "source": [
        "def check_rightclick(url):\n",
        "  html_content = requests.get(url).text\n",
        "  soup = BeautifulSoup(html_content, \"lxml\")\n",
        "  if str(soup).lower().find(\"preventdefault()\") != -1:\n",
        "    return -1\n",
        "  elif str(soup).lower().find(\"event.button==2\") != -1:\n",
        "    return -1\n",
        "  elif str(soup).lower().find(\"event.button == 2\") != -1:\n",
        "    return -1\n",
        "  return 1"
      ],
      "execution_count": null,
      "outputs": []
    },
    {
      "cell_type": "code",
      "metadata": {
        "colab": {
          "base_uri": "https://localhost:8080/"
        },
        "id": "LEHHskOp0yhD",
        "outputId": "fcb5c4c6-aae4-4268-9a9e-cb55e1c6f030"
      },
      "source": [
        "check_rightclick(url)"
      ],
      "execution_count": null,
      "outputs": [
        {
          "output_type": "execute_result",
          "data": {
            "text/plain": [
              "-1"
            ]
          },
          "metadata": {
            "tags": []
          },
          "execution_count": 68
        }
      ]
    },
    {
      "cell_type": "markdown",
      "metadata": {
        "id": "ZC7840KX47Sr"
      },
      "source": [
        "On mouseover"
      ]
    },
    {
      "cell_type": "code",
      "metadata": {
        "id": "dZbC8DmS0yda"
      },
      "source": [
        "def check_onmouseover(url):\n",
        "  try:\n",
        "    html_content = requests.get(url).text\n",
        "  except:\n",
        "    return -1\n",
        "  soup = BeautifulSoup(html_content, \"lxml\")\n",
        "  if str(soup).lower().find('onmouseover=\"window.status') != -1:\n",
        "    return -1\n",
        "  return 1"
      ],
      "execution_count": null,
      "outputs": []
    },
    {
      "cell_type": "code",
      "metadata": {
        "colab": {
          "base_uri": "https://localhost:8080/"
        },
        "id": "ufk03bhj0yYv",
        "outputId": "43fc630f-c4d5-4030-f4c7-941b46187287"
      },
      "source": [
        "url = \"https://google.com\"\n",
        "check_onmouseover(url)"
      ],
      "execution_count": null,
      "outputs": [
        {
          "output_type": "execute_result",
          "data": {
            "text/plain": [
              "1"
            ]
          },
          "metadata": {
            "tags": []
          },
          "execution_count": 22
        }
      ]
    },
    {
      "cell_type": "markdown",
      "metadata": {
        "id": "sFJBqMCdE9Hu"
      },
      "source": [
        "Favicon"
      ]
    },
    {
      "cell_type": "code",
      "metadata": {
        "id": "HjBaoT3_FDaf"
      },
      "source": [
        "!pip install favicon"
      ],
      "execution_count": null,
      "outputs": []
    },
    {
      "cell_type": "code",
      "metadata": {
        "id": "kez58ku-HGlA"
      },
      "source": [
        "def check_favicon(url):\n",
        "  extract_res = tldextract.extract(url)\n",
        "  url_ref = extract_res.domain\n",
        "\n",
        "  favs = favicon.get(url)\n",
        "  # print(favs)\n",
        "  match = 0\n",
        "  for favi in favs:\n",
        "    url2 = favi.url\n",
        "    extract_res = tldextract.extract(url2)\n",
        "    url_ref2 = extract_res.domain\n",
        "\n",
        "    if url_ref in url_ref2:\n",
        "      match += 1\n",
        "\n",
        "  if match >= len(favs)/2:\n",
        "    return 1\n",
        "  return -1"
      ],
      "execution_count": null,
      "outputs": []
    },
    {
      "cell_type": "code",
      "metadata": {
        "colab": {
          "base_uri": "https://localhost:8080/"
        },
        "id": "0IXev70XFpyh",
        "outputId": "934b416d-3d87-4578-d4ef-5ca6bdfd5e1b"
      },
      "source": [
        "url = \"https://www.iiitd.ac.in\"\n",
        "check_favicon(url)"
      ],
      "execution_count": null,
      "outputs": [
        {
          "output_type": "execute_result",
          "data": {
            "text/plain": [
              "1"
            ]
          },
          "metadata": {
            "tags": []
          },
          "execution_count": 62
        }
      ]
    },
    {
      "cell_type": "markdown",
      "metadata": {
        "id": "DbsvceEEK7eY"
      },
      "source": [
        "Request URL"
      ]
    },
    {
      "cell_type": "code",
      "metadata": {
        "id": "5hE-70CkMgUX"
      },
      "source": [
        "def check_request_URL(url):\n",
        "  extract_res = tldextract.extract(url)\n",
        "  url_ref = extract_res.domain\n",
        "\n",
        "  command_stdout = Popen(['curl', 'https://api.hackertarget.com/pagelinks/?q=' + url], stdout=PIPE).communicate()[0]\n",
        "  links = command_stdout.decode('utf-8').split(\"\\n\")\n",
        "\n",
        "  count = 0\n",
        "\n",
        "  for link in links:\n",
        "    extract_res = tldextract.extract(link)\n",
        "    url_ref2 = extract_res.domain\n",
        "\n",
        "    if url_ref not in url_ref2:\n",
        "      count += 1\n",
        "\n",
        "  count /= len(links)\n",
        "\n",
        "  if count < 0.22:\n",
        "    return 1\n",
        "  elif count < 0.61:\n",
        "    return 0\n",
        "  else:\n",
        "    return -1"
      ],
      "execution_count": null,
      "outputs": []
    },
    {
      "cell_type": "code",
      "metadata": {
        "id": "3qv5yhwLLDBj"
      },
      "source": [
        "url = \"https://xavier-net.gq/?login=do\""
      ],
      "execution_count": null,
      "outputs": []
    },
    {
      "cell_type": "code",
      "metadata": {
        "colab": {
          "base_uri": "https://localhost:8080/"
        },
        "id": "L3ZMYUdPFpwL",
        "outputId": "8d0722c7-6122-4c9a-9b2c-392814661bb1"
      },
      "source": [
        "check_request_URL(url)"
      ],
      "execution_count": null,
      "outputs": [
        {
          "output_type": "execute_result",
          "data": {
            "text/plain": [
              "-1"
            ]
          },
          "metadata": {
            "tags": []
          },
          "execution_count": 76
        }
      ]
    },
    {
      "cell_type": "markdown",
      "metadata": {
        "id": "aZ-dtv6gO44X"
      },
      "source": [
        "URL of Anchor"
      ]
    },
    {
      "cell_type": "code",
      "metadata": {
        "id": "YlGcaOvLam7B"
      },
      "source": [
        "def check_URL_of_anchor(url):\n",
        "  extract_res = tldextract.extract(url)\n",
        "  url_ref = extract_res.domain\n",
        "  html_content = requests.get(url).text\n",
        "  soup = BeautifulSoup(html_content, \"lxml\")\n",
        "  a_tags = soup.find_all('a')\n",
        "\n",
        "  if len(a_tags) == 0:\n",
        "    return 1\n",
        "\n",
        "  invalid = ['#', '#content', '#skip', 'JavaScript::void(0)']\n",
        "  bad_count = 0\n",
        "  for t in a_tags:\n",
        "    link = t['href']\n",
        "\n",
        "    if link in invalid:\n",
        "      bad_count += 1\n",
        "\n",
        "    if url_validator(link):\n",
        "      extract_res = tldextract.extract(link)\n",
        "      url_ref2 = extract_res.domain\n",
        "\n",
        "      if url_ref not in url_ref2:\n",
        "        bad_count += 1\n",
        "\n",
        "  bad_count /= len(a_tags)\n",
        "\n",
        "  if bad_count < 0.31:\n",
        "    return 1\n",
        "  elif bad_count <= 0.67:\n",
        "    return 0\n",
        "  return -1"
      ],
      "execution_count": null,
      "outputs": []
    },
    {
      "cell_type": "code",
      "metadata": {
        "id": "BTyr2ao83qsl"
      },
      "source": [
        "def extract_features(url):\n",
        "  features_extracted = [0]*25\n",
        "  phStatus, expanded = check_for_shortened_url(url)\n",
        "  features_extracted[2] = phStatus\n",
        "  phStatus, last_url = redirect(url)\n",
        "  features_extracted[16] = phStatus\n",
        "  if expanded is not None:\n",
        "    if len(expanded) >= len(url):\n",
        "      url = expanded\n",
        "\n",
        "  if last_url is not None:\n",
        "    if len(last_url) > len(url):\n",
        "      url = last_url\n",
        "  print(url)\n",
        "  features_extracted[0] = to_find_having_ip_add(url)\n",
        "  features_extracted[1] = to_find_url_len(url)\n",
        "  features_extracted[3]  = to_find_at(url)\n",
        "  features_extracted[4] = to_find_redirect(url)\n",
        "  features_extracted[5] = to_find_prefix(url)\n",
        "  features_extracted[6] = to_find_multi_domains(url)\n",
        "  features_extracted[7] = to_find_authority(url)\n",
        "  features_extracted[8] = dregisterlen(url)\n",
        "  features_extracted[9] = check_favicon(url)\n",
        "  features_extracted[10] = existenceoftoken(url)\n",
        "  features_extracted[11] = check_request_URL(url)\n",
        "  features_extracted[12] = check_URL_of_anchor(url)\n",
        "  features_extracted[13] = tags(url)\n",
        "  features_extracted[14] = sfh(url)\n",
        "  features_extracted[15] = check_submit_to_email(url)\n",
        "  features_extracted[17] = check_onmouseover(url)\n",
        "  features_extracted[18] = check_rightclick(url)\n",
        "  features_extracted[19] = check_iframe(url)\n",
        "  features_extracted[20] = check_age_of_domain(url)\n",
        "  features_extracted[21] = check_dns_record(url)\n",
        "  features_extracted[22] = check_web_traffic(url)\n",
        "  features_extracted[23] = get_pagerank(url)\n",
        "  features_extracted[24] = check_statistical_report(url)\n",
        "\n",
        "  return features_extracted"
      ],
      "execution_count": null,
      "outputs": []
    },
    {
      "cell_type": "code",
      "metadata": {
        "id": "j_3opDlPoYt2"
      },
      "source": [
        "valid_url = \"https://cse.iiitd.ac.in/\""
      ],
      "execution_count": null,
      "outputs": []
    },
    {
      "cell_type": "code",
      "metadata": {
        "id": "WniS5bwBoYp1"
      },
      "source": [
        "phish_url = \"https://xavier-net.gq/?login=do\""
      ],
      "execution_count": null,
      "outputs": []
    },
    {
      "cell_type": "code",
      "metadata": {
        "id": "ANW0gzsCorq-"
      },
      "source": [
        "valid_url2 = \"https://bit.ly/segfault\""
      ],
      "execution_count": null,
      "outputs": []
    },
    {
      "cell_type": "code",
      "metadata": {
        "id": "c7dVP5Lgorlf"
      },
      "source": [
        "phish_url2 = \"http://125.98.3.123/fake.html\""
      ],
      "execution_count": null,
      "outputs": []
    },
    {
      "cell_type": "code",
      "metadata": {
        "id": "RbPbctJK1FhW"
      },
      "source": [
        "def convertEncodingToPositive(data):\n",
        "  mapping = {-1: 2, 0: 0, 1: 1}\n",
        "  i = 0\n",
        "  for col in data:\n",
        "    data[i] = mapping[col]\n",
        "    i+=1\n",
        "  return data"
      ],
      "execution_count": null,
      "outputs": []
    },
    {
      "cell_type": "code",
      "metadata": {
        "colab": {
          "base_uri": "https://localhost:8080/"
        },
        "id": "beqYiLPc5VyS",
        "outputId": "da9cbe13-fa57-4317-d97e-b5d7de6ead80"
      },
      "source": [
        "features_extracted = extract_features(phish_url)"
      ],
      "execution_count": null,
      "outputs": [
        {
          "output_type": "stream",
          "text": [
            "https://xavier-net.gq/?login=do\n",
            "cPanel\n",
            "Error trying to connect to socket: closing socket\n",
            "Error trying to connect to socket: closing socket\n",
            "Error trying to connect to socket: closing socket\n"
          ],
          "name": "stdout"
        }
      ]
    },
    {
      "cell_type": "code",
      "metadata": {
        "colab": {
          "base_uri": "https://localhost:8080/"
        },
        "id": "z5LqiCXL55_W",
        "outputId": "1c7693b4-2163-4aca-a7ca-447498d7a909"
      },
      "source": [
        "features_extracted"
      ],
      "execution_count": null,
      "outputs": [
        {
          "output_type": "execute_result",
          "data": {
            "text/plain": [
              "[1,\n",
              " 1,\n",
              " 1,\n",
              " 1,\n",
              " 1,\n",
              " -1,\n",
              " 1,\n",
              " -1,\n",
              " -1,\n",
              " 1,\n",
              " 1,\n",
              " -1,\n",
              " -1,\n",
              " 1,\n",
              " 1,\n",
              " 1,\n",
              " 1,\n",
              " 1,\n",
              " -1,\n",
              " -1,\n",
              " -1,\n",
              " 1,\n",
              " -1,\n",
              " -1,\n",
              " -1]"
            ]
          },
          "metadata": {
            "tags": []
          },
          "execution_count": 334
        }
      ]
    },
    {
      "cell_type": "code",
      "metadata": {
        "id": "aFPQRcsH1FfO"
      },
      "source": [
        "features_extracted = convertEncodingToPositive(features_extracted)"
      ],
      "execution_count": null,
      "outputs": []
    },
    {
      "cell_type": "code",
      "metadata": {
        "colab": {
          "base_uri": "https://localhost:8080/"
        },
        "id": "UBLJnEDG1FcS",
        "outputId": "7597d0fc-4b8f-459d-cdca-ea9e425eb6a4"
      },
      "source": [
        "features_extracted"
      ],
      "execution_count": null,
      "outputs": [
        {
          "output_type": "execute_result",
          "data": {
            "text/plain": [
              "[1, 1, 1, 1, 1, 2, 1, 2, 2, 1, 1, 2, 2, 1, 1, 1, 1, 1, 2, 2, 2, 1, 2, 2, 2]"
            ]
          },
          "metadata": {
            "tags": []
          },
          "execution_count": 336
        }
      ]
    },
    {
      "cell_type": "code",
      "metadata": {
        "id": "vH6G2RrH2AhL"
      },
      "source": [
        "from sklearn.preprocessing import OneHotEncoder"
      ],
      "execution_count": null,
      "outputs": []
    },
    {
      "cell_type": "code",
      "metadata": {
        "id": "VLOxydzm3GmS"
      },
      "source": [
        "import numpy as np"
      ],
      "execution_count": null,
      "outputs": []
    },
    {
      "cell_type": "code",
      "metadata": {
        "id": "FJNJjKJu2Aeu"
      },
      "source": [
        "import pickle"
      ],
      "execution_count": null,
      "outputs": []
    },
    {
      "cell_type": "code",
      "metadata": {
        "id": "qGbnYMox2Abd"
      },
      "source": [
        "one_hot_enc = pickle.load(open(\"/One_Hot_Encoder\", \"rb\"))"
      ],
      "execution_count": null,
      "outputs": []
    },
    {
      "cell_type": "code",
      "metadata": {
        "id": "U4s6Oxic2oxC"
      },
      "source": [
        "transformed_point = one_hot_enc.transform(np.array(features_extracted).reshape(1, -1))"
      ],
      "execution_count": null,
      "outputs": []
    },
    {
      "cell_type": "code",
      "metadata": {
        "colab": {
          "base_uri": "https://localhost:8080/"
        },
        "id": "kruhe3OV2ou8",
        "outputId": "de4f972e-ace1-40c4-e6a1-50d918dcbb3a"
      },
      "source": [
        "transformed_point"
      ],
      "execution_count": null,
      "outputs": [
        {
          "output_type": "execute_result",
          "data": {
            "text/plain": [
              "array([[1., 0., 0., 1., 0., 1., 0., 1., 0., 1., 0., 0., 1., 0., 1., 0.,\n",
              "        0., 0., 1., 0., 1., 1., 0., 1., 0., 0., 1., 0., 0., 1., 0., 1.,\n",
              "        0., 0., 1., 0., 1., 0., 0., 1., 1., 0., 0., 1., 0., 1., 0., 1.,\n",
              "        1., 0., 0., 0., 1., 0., 1., 0., 1.]])"
            ]
          },
          "metadata": {
            "tags": []
          },
          "execution_count": 338
        }
      ]
    },
    {
      "cell_type": "code",
      "metadata": {
        "id": "Epe7ivis2osn"
      },
      "source": [
        "model = pickle.load(open(\"/SVM_Final_Model\", \"rb\"))"
      ],
      "execution_count": null,
      "outputs": []
    },
    {
      "cell_type": "code",
      "metadata": {
        "colab": {
          "base_uri": "https://localhost:8080/"
        },
        "id": "3gugOgE72opN",
        "outputId": "1825b59d-6edf-44d6-d437-8bc41898d445"
      },
      "source": [
        "model.predict(transformed_point)"
      ],
      "execution_count": null,
      "outputs": [
        {
          "output_type": "execute_result",
          "data": {
            "text/plain": [
              "array([2])"
            ]
          },
          "metadata": {
            "tags": []
          },
          "execution_count": 339
        }
      ]
    },
    {
      "cell_type": "code",
      "metadata": {
        "id": "JYYy9A_-oIay"
      },
      "source": [
        "import sklearn"
      ],
      "execution_count": null,
      "outputs": []
    },
    {
      "cell_type": "code",
      "metadata": {
        "id": "WKggDF-poGV_",
        "colab": {
          "base_uri": "https://localhost:8080/"
        },
        "outputId": "b624b4ff-fff1-4a6c-d96d-20fb8502957d"
      },
      "source": [
        "sklearn_version = sklearn.__version__\n",
        "\n",
        "print(sklearn_version)"
      ],
      "execution_count": null,
      "outputs": [
        {
          "output_type": "stream",
          "text": [
            "0.22.2.post1\n"
          ],
          "name": "stdout"
        }
      ]
    }
  ]
}